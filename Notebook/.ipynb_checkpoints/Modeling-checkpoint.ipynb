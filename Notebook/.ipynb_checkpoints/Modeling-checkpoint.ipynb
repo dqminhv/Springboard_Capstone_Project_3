{
 "cells": [
  {
   "cell_type": "code",
   "execution_count": 1,
   "id": "83317677",
   "metadata": {},
   "outputs": [],
   "source": [
    "import pandas as pd\n",
    "import numpy as np\n",
    "import matplotlib.pyplot as plt\n",
    "from matplotlib.lines import Line2D\n",
    "import seaborn as sns\n",
    "import nltk\n",
    "#nltk.download('stopwords')\n",
    "#nltk.download('punkt')\n",
    "from nltk.corpus import stopwords\n",
    "from nltk.tokenize import word_tokenize\n",
    "import re\n",
    "from datetime import timedelta"
   ]
  },
  {
   "cell_type": "code",
   "execution_count": 2,
   "id": "f7166da7",
   "metadata": {},
   "outputs": [],
   "source": [
    "#Import train and test data\n",
    "root_path = '/home/dqminhv/Springboard/Springboard_Capstone_Project_3/data/'\n",
    "train_professional = pd.read_csv(root_path + 'train_professional_profile_data.csv')\n",
    "train_question = pd.read_csv(root_path + 'train_question_data.csv')\n",
    "train_answer = pd.read_csv(root_path + 'train_answer_data.csv')\n",
    "test_professional = pd.read_csv(root_path + 'test_professional_profile_data.csv')\n",
    "test_question = pd.read_csv(root_path + 'test_question_data.csv')\n",
    "test_answer = pd.read_csv(root_path + 'test_answer_data.csv')"
   ]
  },
  {
   "cell_type": "markdown",
   "id": "6c0c4c79",
   "metadata": {},
   "source": [
    "# Modeling"
   ]
  },
  {
   "cell_type": "markdown",
   "id": "e14445bf",
   "metadata": {},
   "source": [
    "## Content-based recommendation"
   ]
  },
  {
   "cell_type": "code",
   "execution_count": 3,
   "id": "754a4c0d",
   "metadata": {},
   "outputs": [],
   "source": [
    "#pip install --upgrade scikit-learn"
   ]
  },
  {
   "cell_type": "code",
   "execution_count": 4,
   "id": "7e15ad42",
   "metadata": {},
   "outputs": [],
   "source": [
    "from sklearn.feature_extraction.text import TfidfVectorizer\n",
    "from sklearn.metrics.pairwise import cosine_similarity"
   ]
  },
  {
   "cell_type": "code",
   "execution_count": 5,
   "id": "3b7b86e2",
   "metadata": {},
   "outputs": [],
   "source": [
    "#Create a function that calculate cosine similarity scores between 2 documents\n",
    "def cos_sim(doc1,doc2):\n",
    "    \"\"\"\n",
    "    This function calculate the similarity between 2 documents using cosine similarity.\n",
    "    Input: 2 documents to e compare\n",
    "    Return: cosine similarity score\n",
    "    \"\"\"\n",
    "    doc1 = doc1\n",
    "    doc2 = doc2\n",
    "    # Vectorize documents\n",
    "    vectorizer = TfidfVectorizer(min_df=2, max_df=0.7)\n",
    "    doc_vectors = vectorizer.fit_transform([doc1, doc2])\n",
    "\n",
    "    # Calculate cosine similarity\n",
    "    similarity = cosine_similarity(doc_vectors[0], doc_vectors[1])[0][0]\n",
    "    return similarity"
   ]
  },
  {
   "cell_type": "code",
   "execution_count": 6,
   "id": "aa44ab6a",
   "metadata": {},
   "outputs": [],
   "source": [
    "#Create a professional profiles dataframe from the train dataset\n",
    "train_professional_df = train_professional[['professional_id', 'question_content']]\n",
    "train_professional_df.set_index(['professional_id'], inplace=True)"
   ]
  },
  {
   "cell_type": "code",
   "execution_count": 7,
   "id": "58c00db7",
   "metadata": {},
   "outputs": [],
   "source": [
    "#Create a question profiles dataframe from the test dataset\n",
    "test_question_df = test_question[['question_id', 'question_content']]\n",
    "test_question_df.set_index(['question_id'], inplace=True)"
   ]
  },
  {
   "cell_type": "code",
   "execution_count": 8,
   "id": "cca20449",
   "metadata": {},
   "outputs": [],
   "source": [
    "#Create a function that takes a set of professionals and a set of questions and calculate the cosine similarity scores.\n",
    "#Return 10 questions with the highest similarity scores to each professional\n",
    "def content_recommendation(professional_df,question_df):\n",
    "    \"\"\"\n",
    "    This function take two inputs in pandas dataframe format\n",
    "    professional_df['profesisonal_id','question_content']\n",
    "    question_df['question_id','question_content']\n",
    "    It will return a recommendation dataframe that assigns each question to \n",
    "    10 most relevant professionals  \n",
    "    \"\"\"  \n",
    "    # Vectorize text data using TF-IDF (could also use other vectorization methods)\n",
    "    vectorizer = TfidfVectorizer(min_df=2, max_df=0.7)\n",
    "    professional_vector = vectorizer.fit_transform(professional_df['question_content'])\n",
    "    question_vector = vectorizer.transform(question_df['question_content'])\n",
    "\n",
    "    # Calculate cosine similarity matrix\n",
    "    cosine_matrix = cosine_similarity(professional_vector, question_vector)\n",
    "    cosine_similarity_df = pd.DataFrame(cosine_matrix,\n",
    "                                columns=question_df.index)\n",
    "    cosine_similarity_df.index = professional_df.index\n",
    "    recommendation_df = cosine_similarity_df.apply(lambda x: x.nlargest(10).index.tolist(), axis=1).explode().reset_index()\n",
    "    recommendation_df.columns = ['professional_id', 'question_id']\n",
    "    return recommendation_df"
   ]
  },
  {
   "cell_type": "code",
   "execution_count": 9,
   "id": "f0c655b3",
   "metadata": {},
   "outputs": [],
   "source": [
    "#Create a recommendation dataframe for the professionals in the train set with the questions in the test set.\n",
    "content_based_recommendation_df = content_recommendation(train_professional_df, test_question_df)"
   ]
  },
  {
   "cell_type": "markdown",
   "id": "6adb24e0",
   "metadata": {},
   "source": [
    "## Tag-based recommendation"
   ]
  },
  {
   "cell_type": "code",
   "execution_count": 10,
   "id": "4c77a28c",
   "metadata": {},
   "outputs": [],
   "source": [
    "#Create a professional profiles dataframe from the train dataset\n",
    "train_professional_tag = train_professional[['professional_id', 'tag_name']]\n",
    "train_professional_tag.set_index(['professional_id'], inplace=True)"
   ]
  },
  {
   "cell_type": "code",
   "execution_count": 11,
   "id": "68a2b14d",
   "metadata": {},
   "outputs": [],
   "source": [
    "#Create a question profiles dataframe from the test dataset\n",
    "test_question_tag = test_question[['question_id', 'tag_name']]\n",
    "test_question_tag.set_index(['question_id'], inplace=True)"
   ]
  },
  {
   "cell_type": "code",
   "execution_count": 12,
   "id": "4e094011",
   "metadata": {},
   "outputs": [],
   "source": [
    "#Create a function that takes a set of professionals and a set of questions and calculate the cosine similarity scores.\n",
    "#Return 10 questions with the highest similarity scores to each professional\n",
    "def tags_based_recommendation(professional_df, question_df):\n",
    "    \"\"\"\n",
    "    This function take two inputs in pandas dataframe format\n",
    "    professional_df['profesisonal_id','tag_name']\n",
    "    question_df['question_id','tag_name']\n",
    "    It will return a recommendation dataframe that assigns each question to \n",
    "    10 most relevant professionals  \n",
    "    \"\"\"  \n",
    "    # Vectorize text data using TF-IDF\n",
    "    vectorizer = TfidfVectorizer(analyzer='word',stop_words= 'english', min_df=2, max_df=0.7)\n",
    "    professional_vector = vectorizer.fit_transform(professional_df['tag_name'])\n",
    "    question_vector = vectorizer.transform(question_df['tag_name'])\n",
    "\n",
    "    # Calculate cosine similarity matrix\n",
    "    cosine_matrix = cosine_similarity(professional_vector, question_vector)\n",
    "    cosine_similarity_df = pd.DataFrame(cosine_matrix,\n",
    "                                columns=question_df.index)\n",
    "    cosine_similarity_df.index = professional_df.index\n",
    "    recommendation_df = cosine_similarity_df.apply(lambda x: x.nlargest(10).index.tolist(), axis=1).explode().reset_index()\n",
    "    recommendation_df.columns = ['professional_id', 'question_id']\n",
    "    return recommendation_df\n"
   ]
  },
  {
   "cell_type": "code",
   "execution_count": 13,
   "id": "1ff747c8",
   "metadata": {},
   "outputs": [],
   "source": [
    "tag_based_recommendation_df = tags_based_recommendation(train_professional_tag,test_question_tag)"
   ]
  },
  {
   "cell_type": "markdown",
   "id": "4f95cd9d",
   "metadata": {},
   "source": [
    "# Model Evaluation"
   ]
  },
  {
   "cell_type": "markdown",
   "id": "ea7d112a",
   "metadata": {},
   "source": [
    "## Response rate of the questions in the test set"
   ]
  },
  {
   "cell_type": "markdown",
   "id": "a5c0c8bc",
   "metadata": {},
   "source": [
    "**Let calculate how efficient the original recommendation mechanism of CareerVillage.org.**\n",
    "\n",
    "**With the questions in the test set, we will determine the rate of response of the professionals in the train set.**\n",
    "\n",
    "**Each question in the test set was assigned to a set of professionals via email. We will calculate how many answers each question received.**"
   ]
  },
  {
   "cell_type": "code",
   "execution_count": 14,
   "id": "2dc0bc0a",
   "metadata": {},
   "outputs": [],
   "source": [
    "#Create a set of questions in the test set that had at least one answer\n",
    "test_question_w_answer_set = set(test_answer['professional_id'] + ',' + test_answer['question_id'])"
   ]
  },
  {
   "cell_type": "code",
   "execution_count": 15,
   "id": "ac08e943",
   "metadata": {},
   "outputs": [],
   "source": [
    "#Import the emails and matches data\n",
    "emails = pd.read_csv(root_path + 'emails.csv')\n",
    "matches = pd.read_csv(root_path + 'matches.csv')"
   ]
  },
  {
   "cell_type": "code",
   "execution_count": 16,
   "id": "21c77e8a",
   "metadata": {},
   "outputs": [],
   "source": [
    "#Create a dataframe from emails and matches that has the list of professionals \n",
    "#and the questions they are assigned via email.\n",
    "professional_question = matches.merge(emails, \n",
    "                                     left_on='matches_email_id',\n",
    "                                     right_on='emails_id',\n",
    "                                     how='left')"
   ]
  },
  {
   "cell_type": "code",
   "execution_count": 17,
   "id": "ebd66cd3",
   "metadata": {},
   "outputs": [],
   "source": [
    "#Rename some columns for appropriate name\n",
    "professional_question.rename(columns={'matches_question_id':'question_id',\n",
    "                                     'emails_recipient_id':'professional_id'}, inplace=True)"
   ]
  },
  {
   "cell_type": "code",
   "execution_count": 18,
   "id": "2602b9ec",
   "metadata": {},
   "outputs": [],
   "source": [
    "#Drop some unnecessary columns\n",
    "professional_question.drop(['matches_email_id','emails_id','emails_date_sent','emails_frequency_level'], axis=1, inplace=True)"
   ]
  },
  {
   "cell_type": "code",
   "execution_count": 19,
   "id": "824ee8ed",
   "metadata": {},
   "outputs": [],
   "source": [
    "#Filter professional_question dataframe so that it only contains professionals in the train set\n",
    "#and questions in the test set\n",
    "professional_question_test =\\\n",
    "                    professional_question[professional_question['question_id'].isin(set(test_question['question_id'].values))\\\n",
    "                    &\\\n",
    "                    professional_question['professional_id'].isin(set(train_professional['professional_id'].values))].\\\n",
    "                    reset_index(drop=True)"
   ]
  },
  {
   "cell_type": "code",
   "execution_count": 20,
   "id": "cffa9ec7",
   "metadata": {},
   "outputs": [],
   "source": [
    "#Create a match column for the professional_question_test dataframe. \n",
    "#This column concatnate the professional id and the question id that they are assigned\n",
    "professional_question_test['prof_ques_pair'] = professional_question_test['professional_id'] + ',' +\\\n",
    "                                        professional_question_test['question_id']"
   ]
  },
  {
   "cell_type": "code",
   "execution_count": 21,
   "id": "121ad40b",
   "metadata": {},
   "outputs": [],
   "source": [
    "#Create a boolean is_match column that indicates whether a professional,question pair results in an answer\n",
    "professional_question_test['is_answered'] = professional_question_test['prof_ques_pair'].isin(test_question_w_answer_set)"
   ]
  },
  {
   "cell_type": "code",
   "execution_count": 22,
   "id": "e61337a0",
   "metadata": {},
   "outputs": [
    {
     "name": "stdout",
     "output_type": "stream",
     "text": [
      "Response rate of the original matching system: \n",
      "0.0038050571864699247\n"
     ]
    }
   ],
   "source": [
    "#Calcuate the rate of response, which is the total of answers divided by the total of professional, question pair\n",
    "print('Response rate of the original matching system: ')\n",
    "print(professional_question_test['is_answered'].sum()/professional_question_test.shape[0])"
   ]
  },
  {
   "cell_type": "markdown",
   "id": "1cfc63dd",
   "metadata": {},
   "source": [
    "**The response rate of the original system is about 0.38%, which means about 1000 of professional,question matching pairs result in 3 to 4 answers.**"
   ]
  },
  {
   "cell_type": "markdown",
   "id": "d837f348",
   "metadata": {},
   "source": [
    "**Determine the response rate for each question in the test set.**"
   ]
  },
  {
   "cell_type": "code",
   "execution_count": 23,
   "id": "8cc5c3cc",
   "metadata": {
    "scrolled": true
   },
   "outputs": [],
   "source": [
    "#Create a response rate dataframe\n",
    "#One column for number of professionals each question is assigned\n",
    "#One column for the number of answers that question received\n",
    "#One column that calCulate the response rate for each question\n",
    "professional_question_test_response_rate = professional_question_test.groupby('question_id', as_index=False).\\\n",
    "                                            agg({'professional_id':'count','is_answered':'sum'})"
   ]
  },
  {
   "cell_type": "code",
   "execution_count": 24,
   "id": "c158ec86",
   "metadata": {},
   "outputs": [],
   "source": [
    "professional_question_test_response_rate['response_rate'] = \\\n",
    "                                                            professional_question_test_response_rate['is_answered'] /\\\n",
    "                                                            professional_question_test_response_rate['professional_id']"
   ]
  },
  {
   "cell_type": "markdown",
   "id": "c9e2cb1f",
   "metadata": {},
   "source": [
    "## Response rate of the questions in the test set by the content-based recommendation model"
   ]
  },
  {
   "cell_type": "code",
   "execution_count": 25,
   "id": "fe5932f4",
   "metadata": {},
   "outputs": [],
   "source": [
    "#Create a match column for the professional_question_test dataframe. \n",
    "#This column concatnate the professional id and the question id that they are assigned\n",
    "content_based_recommendation_df['prof_ques_pair'] = content_based_recommendation_df['professional_id'] +\\\n",
    "                                        ',' +\\\n",
    "                                        content_based_recommendation_df['question_id']"
   ]
  },
  {
   "cell_type": "code",
   "execution_count": 26,
   "id": "357ee4af",
   "metadata": {},
   "outputs": [],
   "source": [
    "#Create a boolean is_match column that indicates whether a professional,question pair results in an answer\n",
    "content_based_recommendation_df['is_answered'] = content_based_recommendation_df['prof_ques_pair'].isin(test_question_w_answer_set)"
   ]
  },
  {
   "cell_type": "code",
   "execution_count": 27,
   "id": "f9ba27a3",
   "metadata": {},
   "outputs": [
    {
     "name": "stdout",
     "output_type": "stream",
     "text": [
      "Response rate of the content-based recommendation system: \n",
      "0.0042015005359056804\n"
     ]
    }
   ],
   "source": [
    "#Calcuate the rate of response, which is the total of answers divided by the total of professional, question pair\n",
    "print('Response rate of the content-based recommendation system: ')\n",
    "print(content_based_recommendation_df['is_answered'].sum()/content_based_recommendation_df.shape[0])"
   ]
  },
  {
   "cell_type": "markdown",
   "id": "53c88509",
   "metadata": {},
   "source": [
    "**The response rate of the content-based recommendation system is about 0.43%, which means about 1000 of professional,question matching pairs result in 4 to 5 answers.**"
   ]
  },
  {
   "cell_type": "markdown",
   "id": "30a777f0",
   "metadata": {},
   "source": [
    "**Determine the response rate for each question in the test set.**"
   ]
  },
  {
   "cell_type": "code",
   "execution_count": 28,
   "id": "c9f06396",
   "metadata": {
    "scrolled": true
   },
   "outputs": [],
   "source": [
    "#Create a response rate dataframe\n",
    "#One column for number of professionals each question is assigned\n",
    "#One column for the number of answers that question received\n",
    "#One column that calCulate the response rate for each question\n",
    "content_based_recommendation_df_response_rate = content_based_recommendation_df.groupby('question_id', as_index=False).\\\n",
    "                                    agg({'professional_id':'count','is_answered':'sum'})"
   ]
  },
  {
   "cell_type": "code",
   "execution_count": 29,
   "id": "9a9ea99b",
   "metadata": {},
   "outputs": [],
   "source": [
    "content_based_recommendation_df_response_rate['response_rate'] = content_based_recommendation_df_response_rate['is_answered'] /\\\n",
    "                                                content_based_recommendation_df_response_rate['professional_id']"
   ]
  },
  {
   "cell_type": "markdown",
   "id": "fda58efb",
   "metadata": {},
   "source": [
    "## Response rate of the questions in the test set by the tag-based recommendation model"
   ]
  },
  {
   "cell_type": "code",
   "execution_count": 30,
   "id": "3515df5e",
   "metadata": {},
   "outputs": [],
   "source": [
    "#Create a match column for the professional_question_test dataframe. \n",
    "#This column concatnate the professional id and the question id that they are assigned\n",
    "tag_based_recommendation_df['prof_ques_pair'] = tag_based_recommendation_df['professional_id'] +\\\n",
    "                                        ',' +\\\n",
    "                                        tag_based_recommendation_df['question_id']"
   ]
  },
  {
   "cell_type": "code",
   "execution_count": 31,
   "id": "71e84913",
   "metadata": {},
   "outputs": [],
   "source": [
    "#Create a boolean is_match column that indicates whether a professional,question pair results in an answer\n",
    "tag_based_recommendation_df['is_answered'] = tag_based_recommendation_df['prof_ques_pair'].isin(test_question_w_answer_set)"
   ]
  },
  {
   "cell_type": "code",
   "execution_count": 32,
   "id": "c0b13f05",
   "metadata": {},
   "outputs": [
    {
     "name": "stdout",
     "output_type": "stream",
     "text": [
      "Response rate of the new recommendation system: \n",
      "0.0059592711682743835\n"
     ]
    }
   ],
   "source": [
    "#Calcuate the rate of response, which is the total of answers divided by the total of professional, question pair\n",
    "print('Response rate of the new recommendation system: ')\n",
    "print(tag_based_recommendation_df['is_answered'].sum()/tag_based_recommendation_df.shape[0])"
   ]
  },
  {
   "cell_type": "markdown",
   "id": "c6eb0d7f",
   "metadata": {},
   "source": [
    "**The response rate of the tag-based recommendation system is about 0.60%, which means about 1000 of professional,question matching pairs result in 6 answers.**"
   ]
  },
  {
   "cell_type": "markdown",
   "id": "db355e38",
   "metadata": {},
   "source": [
    "**Determine the response rate for each question in the test set.**"
   ]
  },
  {
   "cell_type": "code",
   "execution_count": 33,
   "id": "0d355f10",
   "metadata": {
    "scrolled": true
   },
   "outputs": [],
   "source": [
    "#Create a response rate dataframe\n",
    "#One column for number of professionals each question is assigned\n",
    "#One column for the number of answers that question received\n",
    "#One column that calCulate the response rate for each question\n",
    "tag_based_recommendation_df_response_rate = tag_based_recommendation_df.groupby('question_id', as_index=False).\\\n",
    "                                    agg({'professional_id':'count','is_answered':'sum'})"
   ]
  },
  {
   "cell_type": "code",
   "execution_count": 34,
   "id": "115c5096",
   "metadata": {},
   "outputs": [],
   "source": [
    "tag_based_recommendation_df_response_rate['response_rate'] = tag_based_recommendation_df_response_rate['is_answered'] /\\\n",
    "                                                tag_based_recommendation_df_response_rate['professional_id']"
   ]
  },
  {
   "cell_type": "markdown",
   "id": "6d450b13",
   "metadata": {},
   "source": [
    "## Model Comparison"
   ]
  },
  {
   "cell_type": "markdown",
   "id": "569f112f",
   "metadata": {},
   "source": [
    "**Increase in response rate overall.**"
   ]
  },
  {
   "cell_type": "code",
   "execution_count": 35,
   "id": "919acc52",
   "metadata": {},
   "outputs": [],
   "source": [
    "org_resp_rate = professional_question_test['is_answered'].sum()/professional_question_test.shape[0]\n",
    "content_based_resp_rate = content_based_recommendation_df['is_answered'].sum()/content_based_recommendation_df.shape[0]\n",
    "tag_based_resp_rate = tag_based_recommendation_df['is_answered'].sum()/tag_based_recommendation_df.shape[0]"
   ]
  },
  {
   "cell_type": "code",
   "execution_count": 36,
   "id": "72a64096",
   "metadata": {},
   "outputs": [
    {
     "name": "stdout",
     "output_type": "stream",
     "text": [
      "There are 10.42 % increase in response rate with the content-based recommendation model\n"
     ]
    }
   ],
   "source": [
    "print(\"There are {:.2f} % increase in response rate with the content-based recommendation model\".format((content_based_resp_rate - org_resp_rate) * 100 / org_resp_rate))"
   ]
  },
  {
   "cell_type": "code",
   "execution_count": 37,
   "id": "a0702745",
   "metadata": {},
   "outputs": [
    {
     "name": "stdout",
     "output_type": "stream",
     "text": [
      "There are 56.61 % increase in response rate with the tag-based recommendation model\n"
     ]
    }
   ],
   "source": [
    "print(\"There are {:.2f} % increase in response rate with the tag-based recommendation model\".format((tag_based_resp_rate - org_resp_rate) * 100 / org_resp_rate))"
   ]
  },
  {
   "cell_type": "markdown",
   "id": "8493b52c",
   "metadata": {},
   "source": [
    "**Comparing the response rates of the new recommendation model with the original matching system.**"
   ]
  },
  {
   "cell_type": "code",
   "execution_count": 38,
   "id": "5751d47c",
   "metadata": {
    "scrolled": true
   },
   "outputs": [
    {
     "name": "stderr",
     "output_type": "stream",
     "text": [
      "/tmp/ipykernel_6443/1692225700.py:3: SettingWithCopyWarning: \n",
      "A value is trying to be set on a copy of a slice from a DataFrame.\n",
      "Try using .loc[row_indexer,col_indexer] = value instead\n",
      "\n",
      "See the caveats in the documentation: https://pandas.pydata.org/pandas-docs/stable/user_guide/indexing.html#returning-a-view-versus-a-copy\n",
      "  df1['response_rate'] = df1['response_rate'].transform(lambda x: np.log(x))\n",
      "/tmp/ipykernel_6443/1692225700.py:6: SettingWithCopyWarning: \n",
      "A value is trying to be set on a copy of a slice from a DataFrame.\n",
      "Try using .loc[row_indexer,col_indexer] = value instead\n",
      "\n",
      "See the caveats in the documentation: https://pandas.pydata.org/pandas-docs/stable/user_guide/indexing.html#returning-a-view-versus-a-copy\n",
      "  df2['response_rate'] = df2['response_rate'].transform(lambda x: np.log(x))\n",
      "/tmp/ipykernel_6443/1692225700.py:9: SettingWithCopyWarning: \n",
      "A value is trying to be set on a copy of a slice from a DataFrame.\n",
      "Try using .loc[row_indexer,col_indexer] = value instead\n",
      "\n",
      "See the caveats in the documentation: https://pandas.pydata.org/pandas-docs/stable/user_guide/indexing.html#returning-a-view-versus-a-copy\n",
      "  df3['response_rate'] = df3['response_rate'].transform(lambda x: np.log(x))\n"
     ]
    }
   ],
   "source": [
    "#Convert the response rate to logarithm scale\n",
    "df1 = professional_question_test_response_rate[['response_rate']]\n",
    "df1['response_rate'] = df1['response_rate'].transform(lambda x: np.log(x))\n",
    "\n",
    "df2 = content_based_recommendation_df_response_rate[['response_rate']]\n",
    "df2['response_rate'] = df2['response_rate'].transform(lambda x: np.log(x))\n",
    "\n",
    "df3 = tag_based_recommendation_df_response_rate[['response_rate']]\n",
    "df3['response_rate'] = df3['response_rate'].transform(lambda x: np.log(x))"
   ]
  },
  {
   "cell_type": "code",
   "execution_count": 40,
   "id": "0acadeb7",
   "metadata": {},
   "outputs": [
    {
     "data": {
      "image/png": "[encoded data removed]",
      "text/plain": [
       "<Figure size 1000x1200 with 3 Axes>"
      ]
     },
     "metadata": {},
     "output_type": "display_data"
    }
   ],
   "source": [
    "# Assuming df1, df2, and df3 are your dataframes\n",
    "plt.figure(figsize=(10, 12))  # Adjust the figure size\n",
    "\n",
    "# Create subplots\n",
    "ax1 = plt.subplot(311)\n",
    "ax2 = plt.subplot(312, sharex=ax1)\n",
    "ax3 = plt.subplot(313, sharex=ax1)\n",
    "\n",
    "# Boxplots on separate subplots\n",
    "sns.boxplot(data=df1, x='response_rate', whis=(0, 100), color='red', fill=False, width=0.2, ax=ax1)\n",
    "sns.boxplot(data=df2, x='response_rate', whis=(0, 100), color='blue', fill=False, width=0.2, ax=ax2)\n",
    "sns.boxplot(data=df3, x='response_rate', whis=(0, 100), color='green', fill=False, width=0.2, ax=ax3)\n",
    "\n",
    "# Custom legend\n",
    "legend_elements = [\n",
    "    Line2D([0], [0], marker='o', color='w', markerfacecolor='red', markersize=10, label='Original Matching System'),\n",
    "    Line2D([0], [0], marker='o', color='w', markerfacecolor='blue', markersize=10, label='Content-based Recommendation Model'),\n",
    "    Line2D([0], [0], marker='o', color='w', markerfacecolor='green', markersize=10, label='Tag-based Recommendation Model')\n",
    "]\n",
    "\n",
    "# Apply legend to the first subplot\n",
    "ax1.legend(handles=legend_elements)\n",
    "\n",
    "# Adjust layout\n",
    "plt.subplots_adjust(hspace=0.4)  # Adjust the vertical spacing between subplots\n",
    "\n",
    "plt.xlabel(\"Response Rate (In logarithmic scale)\")\n",
    "plt.suptitle('Boxplots of response rates of the original matching and the new recommendation models', y=0.92)\n",
    "plt.show()"
   ]
  },
  {
   "cell_type": "markdown",
   "id": "ff6cfbe0",
   "metadata": {},
   "source": [
    "# Future improvement for the recommendation model"
   ]
  }
 ],
 "metadata": {
  "kernelspec": {
   "display_name": "Python 3 (ipykernel)",
   "language": "python",
   "name": "python3"
  },
  "language_info": {
   "codemirror_mode": {
    "name": "ipython",
    "version": 3
   },
   "file_extension": ".py",
   "mimetype": "text/x-python",
   "name": "python",
   "nbconvert_exporter": "python",
   "pygments_lexer": "ipython3",
   "version": "3.9.2"
  },
  "toc": {
   "base_numbering": 1,
   "nav_menu": {},
   "number_sections": true,
   "sideBar": true,
   "skip_h1_title": false,
   "title_cell": "Table of Contents",
   "title_sidebar": "Contents",
   "toc_cell": false,
   "toc_position": {
    "height": "calc(100% - 180px)",
    "left": "10px",
    "top": "150px",
    "width": "219.688px"
   },
   "toc_section_display": true,
   "toc_window_display": true
  }
 },
 "nbformat": 4,
 "nbformat_minor": 5
}
