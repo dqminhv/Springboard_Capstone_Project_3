{
 "cells": [
  {
   "cell_type": "code",
   "execution_count": 1,
   "id": "69915e0f",
   "metadata": {},
   "outputs": [],
   "source": [
    "import pandas as pd\n",
    "import numpy as np\n",
    "import matplotlib.pyplot as plt\n",
    "import seaborn as sns\n",
    "import nltk\n",
    "#nltk.download('stopwords')\n",
    "#nltk.download('punkt')\n",
    "from nltk.corpus import stopwords\n",
    "from nltk.tokenize import word_tokenize\n",
    "import re\n",
    "from datetime import timedelta"
   ]
  },
  {
   "cell_type": "code",
   "execution_count": 2,
   "id": "6d2e2a83",
   "metadata": {},
   "outputs": [],
   "source": [
    "#The latest date in the dataset is 2019-02-26. We will use this date as our current day.\n",
    "today = pd.to_datetime('2019-02-26 00:00:00')"
   ]
  },
  {
   "cell_type": "code",
   "execution_count": 3,
   "id": "4b1e0d80",
   "metadata": {},
   "outputs": [],
   "source": [
    "#Import the datasets\n",
    "root_path = '/home/dqminhv/Springboard/Springboard_Capstone_Project_3/data/'\n",
    "answers = pd.read_csv(root_path + 'answers.csv')\n",
    "answer_scores = pd.read_csv(root_path + 'answer_scores.csv')\n",
    "comments = pd.read_csv(root_path + 'comments.csv')\n",
    "emails = pd.read_csv(root_path + 'emails.csv')\n",
    "groups = pd.read_csv(root_path + 'groups.csv')\n",
    "group_memberships = pd.read_csv(root_path + 'group_memberships.csv')\n",
    "matches = pd.read_csv(root_path + 'matches.csv')\n",
    "professionals = pd.read_csv(root_path + 'professionals.csv')\n",
    "questions = pd.read_csv(root_path + 'questions.csv')\n",
    "question_scores = pd.read_csv(root_path + 'question_scores.csv')\n",
    "school_memberships = pd.read_csv(root_path + 'school_memberships.csv')\n",
    "students = pd.read_csv(root_path + 'students.csv')\n",
    "tags = pd.read_csv(root_path + 'tags.csv')\n",
    "tag_questions = pd.read_csv(root_path + 'tag_questions.csv')\n",
    "tag_users = pd.read_csv(root_path + 'tag_users.csv')"
   ]
  },
  {
   "cell_type": "code",
   "execution_count": 4,
   "id": "66f325b7",
   "metadata": {},
   "outputs": [],
   "source": [
    "#Create a function to clean the text feature\n",
    "stop=set(stopwords.words(\"english\"))\n",
    "\n",
    "def clean_text(text):\n",
    "    \"\"\"\n",
    "    Cleans text for TF-IDF analysis.\n",
    "    Args:\n",
    "    text: A string containing the text to be cleaned.\n",
    "    Returns:\n",
    "    A cleaned string suitable for TF-IDF analysis.\n",
    "    \"\"\"\n",
    "    # Remove HTML tags\n",
    "    text = re.sub(r'<.*?>', '', text)\n",
    "    # Remove URLs\n",
    "    text = re.sub(r'[^\\s]+@.*?\\s+', '', text)\n",
    "    # Remove punctuations\n",
    "    text = re.sub(r'[^\\w\\s]', '', text)\n",
    "    # Remove digits\n",
    "    text = re.sub(r'\\d+', '', text)\n",
    "    # Remove underscores\n",
    "    text = re.sub(r'_', '', text)\n",
    "    # Remove single characters\n",
    "    text = re.sub(r'\\s+', ' ', text)\n",
    "    # Remove multiple spaces\n",
    "    text = text.strip()\n",
    "    \n",
    "    # Remove stop words\n",
    "    text = \" \".join([word for word in text.split() if word not in stop])\n",
    "    \n",
    "    # Lemmatizing\n",
    "    from nltk.stem import WordNetLemmatizer\n",
    "    lemmatizer = WordNetLemmatizer()\n",
    "    text = \" \".join([lemmatizer.lemmatize(word) for word in text.split()])\n",
    "    \n",
    "    return text.lower()"
   ]
  },
  {
   "cell_type": "code",
   "execution_count": 5,
   "id": "69f9ddda",
   "metadata": {
    "scrolled": true
   },
   "outputs": [],
   "source": [
    "#Convert some date time columns to datetime objects.\n",
    "questions['questions_date_added'] = pd.to_datetime(questions['questions_date_added'])\n",
    "professionals['professionals_date_joined'] = pd.to_datetime(professionals['professionals_date_joined'])\n",
    "emails['emails_date_sent'] = pd.to_datetime(emails['emails_date_sent'])\n",
    "answers['answers_date_added'] = pd.to_datetime(answers['answers_date_added'])"
   ]
  },
  {
   "cell_type": "code",
   "execution_count": 6,
   "id": "f2f148ae",
   "metadata": {},
   "outputs": [],
   "source": [
    "questions['questions_date_added'].describe()"
   ]
  },
  {
   "cell_type": "code",
   "execution_count": 7,
   "id": "f9fd5233",
   "metadata": {},
   "outputs": [],
   "source": [
    "answers['answers_date_added'].describe()"
   ]
  },
  {
   "cell_type": "code",
   "execution_count": 8,
   "id": "bb44145b",
   "metadata": {},
   "outputs": [],
   "source": [
    "professionals['professionals_date_joined'].describe()"
   ]
  },
  {
   "cell_type": "markdown",
   "id": "0d29ca1d",
   "metadata": {},
   "source": [
    "# Recommnedation strategy"
   ]
  },
  {
   "cell_type": "markdown",
   "id": "0519fb00",
   "metadata": {},
   "source": [
    "\n",
    "* Create a profile for each question by its content and its tags.\n",
    "* Split the questions and professionals datasets into train/test set.\n",
    "* Use questions/professionals before 2017-05-10 as train sets, and after 2017-05-10 as test sets.\n",
    "* Create a profile for each professional by their tags and the questions' content their answered before.\n",
    "* Using cosine similarity, we calculate the similarity score of each question in the test set to the list of professionals.\n",
    "* We assign each professionals with 10 highest similarity score questions.\n",
    "* We estimate the recommemdation power of the model by comparing the response rate in the test set and the response rate by the recommendation model."
   ]
  },
  {
   "cell_type": "markdown",
   "id": "e133d0bc",
   "metadata": {},
   "source": [
    "# Preparing data for modeling"
   ]
  },
  {
   "cell_type": "code",
   "execution_count": 9,
   "id": "7a2210e3",
   "metadata": {},
   "outputs": [],
   "source": [
    "question_w_answer = pd.merge(questions, answers,\n",
    "                                 left_on='questions_id', \n",
    "                                 right_on='answers_question_id', \n",
    "                                 how='right').drop('answers_question_id', axis=1)"
   ]
  },
  {
   "cell_type": "code",
   "execution_count": 10,
   "id": "a1c930f3",
   "metadata": {},
   "outputs": [],
   "source": [
    "question_w_answer_set = set(question_w_answer['questions_id'].values)"
   ]
  },
  {
   "cell_type": "code",
   "execution_count": 11,
   "id": "e3a24d86",
   "metadata": {},
   "outputs": [],
   "source": [
    "#Combine tags names to the questions dataframe\n",
    "question_tag = pd.merge(tag_questions, tags,\n",
    "                        left_on='tag_questions_tag_id', \n",
    "                        right_on='tags_tag_id', \n",
    "                        how='left').drop('tags_tag_id', axis=1)\n",
    "\n",
    "#Rename the columns of the new dataframe\n",
    "question_tag.rename(columns={'tag_questions_tag_id':'tag_id',\n",
    "                             'tag_questions_question_id':'question_id',\n",
    "                             'tags_tag_name':'tag_name'}, inplace=True)"
   ]
  },
  {
   "cell_type": "code",
   "execution_count": 12,
   "id": "3fb17a9f",
   "metadata": {},
   "outputs": [],
   "source": [
    "#Create a dataframe with each question id acssociate with a list of its tags names\n",
    "question_tag_list = question_tag.groupby(\"question_id\")[\"tag_name\"].agg(lambda x: \",\".join(x)).reset_index()"
   ]
  },
  {
   "cell_type": "markdown",
   "id": "120a86fa",
   "metadata": {},
   "source": [
    "## Training data"
   ]
  },
  {
   "cell_type": "code",
   "execution_count": 13,
   "id": "7cade6df",
   "metadata": {},
   "outputs": [],
   "source": [
    "#Use the day at 50th percentile of answers_date_added column in answers data_frame\n",
    "cutoff_day = pd.to_datetime('2017-05-10 16:51:04+00:00')"
   ]
  },
  {
   "cell_type": "markdown",
   "id": "637fd84a",
   "metadata": {},
   "source": [
    "### Questions with answer(s)"
   ]
  },
  {
   "cell_type": "code",
   "execution_count": 14,
   "id": "a48f899a",
   "metadata": {},
   "outputs": [],
   "source": [
    "train_answer = answers[answers['answers_date_added'] < cutoff_day].copy(deep=True)"
   ]
  },
  {
   "cell_type": "code",
   "execution_count": 15,
   "id": "ff00c1e6",
   "metadata": {},
   "outputs": [],
   "source": [
    "train_answer.rename(columns={'answers_id':'answer_id',\n",
    "                            'answers_author_id':'professional_id',\n",
    "                            'answers_question_id':'question_id',\n",
    "                            'answers_date_added':'answer_date_added',\n",
    "                            'answers_body':'answer_body'},inplace=True)"
   ]
  },
  {
   "cell_type": "code",
   "execution_count": 16,
   "id": "461bc9f1",
   "metadata": {},
   "outputs": [],
   "source": [
    "train_question = questions[questions['questions_id'].\\\n",
    "                           isin(set(train_answer['question_id'].values))].\\\n",
    "                            reset_index(drop=True)"
   ]
  },
  {
   "cell_type": "code",
   "execution_count": 17,
   "id": "abc871a6",
   "metadata": {},
   "outputs": [],
   "source": [
    "train_question.rename(columns={'questions_id':'question_id',\n",
    "                              'questions_author_id':'user_id',\n",
    "                              'questions_date_added':'question_date_added',\n",
    "                              'questions_title':'question_title',\n",
    "                              'questions_body':'question_body'}, inplace=True)"
   ]
  },
  {
   "cell_type": "code",
   "execution_count": 18,
   "id": "7e1070ed",
   "metadata": {},
   "outputs": [],
   "source": [
    "train_answer_score = pd.merge(train_answer, answer_scores,\n",
    "                              left_on='answer_id', \n",
    "                              right_on='id', \n",
    "                              how='left').drop('id', axis=1)\n",
    "\n",
    "train_question_answer = pd.merge(train_question, train_answer_score,\n",
    "                                 left_on='question_id', \n",
    "                                 right_on='question_id', \n",
    "                                 how='right')"
   ]
  },
  {
   "cell_type": "code",
   "execution_count": 19,
   "id": "533c1969",
   "metadata": {},
   "outputs": [],
   "source": [
    "#Create a set of questions that have at least one answers\n",
    "train_question_w_answer_set = set(train_question_answer['question_id'].values)"
   ]
  },
  {
   "cell_type": "code",
   "execution_count": 20,
   "id": "52fcb435",
   "metadata": {},
   "outputs": [],
   "source": [
    "#Create a set of professionals that answered at least one question\n",
    "train_professional_w_answer_set = set(train_answer['professional_id'].values)"
   ]
  },
  {
   "cell_type": "markdown",
   "id": "6cf2c1c4",
   "metadata": {},
   "source": [
    "### Questions profiles in the training set"
   ]
  },
  {
   "cell_type": "markdown",
   "id": "e4571293",
   "metadata": {},
   "source": [
    "#### Questions content"
   ]
  },
  {
   "cell_type": "code",
   "execution_count": 21,
   "id": "577f5633",
   "metadata": {},
   "outputs": [],
   "source": [
    "#Create a train question dataframe with only questions with answers\n",
    "train_question = train_question[train_question[\"question_id\"].isin(train_question_w_answer_set)]"
   ]
  },
  {
   "cell_type": "code",
   "execution_count": 22,
   "id": "df7fa843",
   "metadata": {},
   "outputs": [],
   "source": [
    "#Combine questions_title and questions_body as questions_content\n",
    "train_question['question_content'] = \"\"\n",
    "train_question['question_content'] = train_question['question_title'] + \" \" + train_question['question_body']\n",
    "train_question.drop(['question_title', 'question_body'], axis=1, inplace=True)"
   ]
  },
  {
   "cell_type": "code",
   "execution_count": 23,
   "id": "197d33d1",
   "metadata": {},
   "outputs": [],
   "source": [
    "train_question.reset_index(drop=True, inplace=True)"
   ]
  },
  {
   "cell_type": "code",
   "execution_count": 24,
   "id": "9c68377e",
   "metadata": {},
   "outputs": [],
   "source": [
    "#Clean the questions_content and tags for tf-idf\n",
    "train_question['question_content'] = train_question['question_content'].apply(clean_text)"
   ]
  },
  {
   "cell_type": "markdown",
   "id": "e076d8cf",
   "metadata": {},
   "source": [
    "#### Adding tags names to the questions in training set"
   ]
  },
  {
   "cell_type": "code",
   "execution_count": 25,
   "id": "f1d9ce75",
   "metadata": {},
   "outputs": [],
   "source": [
    "#Combine the tags names list of each question to the training question data\n",
    "train_question = pd.merge(train_question, question_tag_list,\n",
    "                         left_on='question_id',\n",
    "                         right_on='question_id',\n",
    "                         how='left')"
   ]
  },
  {
   "cell_type": "code",
   "execution_count": 26,
   "id": "ba7d8323",
   "metadata": {},
   "outputs": [],
   "source": [
    "train_question['tag_name'].fillna('', inplace=True)"
   ]
  },
  {
   "cell_type": "markdown",
   "id": "96892ba5",
   "metadata": {},
   "source": [
    "### Professionals profiles in the training set"
   ]
  },
  {
   "cell_type": "markdown",
   "id": "64a146b6",
   "metadata": {},
   "source": [
    "#### Adding tags names to the professional training set"
   ]
  },
  {
   "cell_type": "code",
   "execution_count": 27,
   "id": "26a84f88",
   "metadata": {},
   "outputs": [],
   "source": [
    "#Create a professional training dataframe\n",
    "#This includes professionals joined in before the cutoff day, and answered at least 1 question.\n",
    "train_professional = professionals.copy(deep=True)\n",
    "train_professional = train_professional[train_professional[\"professionals_id\"].isin(train_professional_w_answer_set)]"
   ]
  },
  {
   "cell_type": "code",
   "execution_count": 28,
   "id": "6b15cf8d",
   "metadata": {},
   "outputs": [],
   "source": [
    "train_professional.rename(columns={'professionals_id':'professional_id',\n",
    "                                   'professionals_date_joined':'professional_date_joined'},\n",
    "                          inplace=True)"
   ]
  },
  {
   "cell_type": "code",
   "execution_count": 29,
   "id": "407a5dcf",
   "metadata": {},
   "outputs": [],
   "source": [
    "train_professional.drop(['professionals_location', 'professionals_industry', 'professionals_headline'], axis=1, inplace=True)"
   ]
  },
  {
   "cell_type": "code",
   "execution_count": 30,
   "id": "e9c19cb5",
   "metadata": {},
   "outputs": [],
   "source": [
    "#Combine tags names to the tag_users\n",
    "user_tag = pd.merge(tag_users, tags,\n",
    "                    left_on='tag_users_tag_id', \n",
    "                    right_on='tags_tag_id', \n",
    "                    how='left').drop('tags_tag_id', axis=1)"
   ]
  },
  {
   "cell_type": "code",
   "execution_count": 31,
   "id": "499f77ec",
   "metadata": {},
   "outputs": [],
   "source": [
    "user_tag.rename(columns={'tag_users_tag_id':'tag_id',\n",
    "                        'tag_users_user_id':'user_id',\n",
    "                        'tags_tag_name':'tag_name'},\n",
    "               inplace=True)"
   ]
  },
  {
   "cell_type": "code",
   "execution_count": 32,
   "id": "e87ee22d",
   "metadata": {},
   "outputs": [],
   "source": [
    "user_tag_list = user_tag.groupby(\"user_id\")[\"tag_name\"].agg(lambda x: \",\".join(x)).reset_index()"
   ]
  },
  {
   "cell_type": "code",
   "execution_count": 33,
   "id": "32d45295",
   "metadata": {},
   "outputs": [],
   "source": [
    "train_professional = train_professional.merge(user_tag_list,\n",
    "                                              left_on='professional_id',\n",
    "                                              right_on='user_id',\n",
    "                                              how='left').drop('user_id', axis=1)"
   ]
  },
  {
   "cell_type": "code",
   "execution_count": 34,
   "id": "3072bc9a",
   "metadata": {},
   "outputs": [],
   "source": [
    "train_professional['tag_name'].fillna('', inplace=True)"
   ]
  },
  {
   "cell_type": "markdown",
   "id": "2d38e633",
   "metadata": {},
   "source": [
    "#### Professionals profiles with previous questions content"
   ]
  },
  {
   "cell_type": "code",
   "execution_count": 35,
   "id": "54a35488",
   "metadata": {},
   "outputs": [],
   "source": [
    "#Merge the \n",
    "train_question_w_answer = pd.merge(train_answer, train_question,\n",
    "                                        left_on='question_id',\n",
    "                                        right_on='question_id',\n",
    "                                        how='left')"
   ]
  },
  {
   "cell_type": "code",
   "execution_count": 36,
   "id": "c9be6c09",
   "metadata": {
    "scrolled": false
   },
   "outputs": [],
   "source": [
    "train_professional_question = train_question_w_answer.\\\n",
    "                                            groupby(\"professional_id\")[\"question_content\"].\\\n",
    "                                            agg(lambda x: \",\".join(x)).reset_index()"
   ]
  },
  {
   "cell_type": "code",
   "execution_count": 37,
   "id": "bdb82f36",
   "metadata": {},
   "outputs": [],
   "source": [
    "train_professional_profile = pd.merge(train_professional, train_professional_question,\n",
    "                                          left_on='professional_id',\n",
    "                                          right_on='professional_id',\n",
    "                                          how='left')"
   ]
  },
  {
   "cell_type": "code",
   "execution_count": 38,
   "id": "b59196a8",
   "metadata": {},
   "outputs": [],
   "source": [
    "train_professional_profile.fillna('', inplace=True)"
   ]
  },
  {
   "cell_type": "code",
   "execution_count": 39,
   "id": "f2a874f4",
   "metadata": {},
   "outputs": [],
   "source": [
    "train_professional_profile.to_csv('train_data.csv', index=False, sep=',', header=True)"
   ]
  },
  {
   "cell_type": "markdown",
   "id": "d24d7f46",
   "metadata": {},
   "source": [
    "## Testing data"
   ]
  },
  {
   "cell_type": "markdown",
   "id": "7ee98a88",
   "metadata": {},
   "source": [
    "### Questions with answer(s) in the testing set"
   ]
  },
  {
   "cell_type": "code",
   "execution_count": 40,
   "id": "6c79eac4",
   "metadata": {},
   "outputs": [],
   "source": [
    "test_answer = answers[answers['answers_date_added'] >= cutoff_day].copy(deep=True)"
   ]
  },
  {
   "cell_type": "code",
   "execution_count": 41,
   "id": "c051957c",
   "metadata": {},
   "outputs": [],
   "source": [
    "test_question = questions[questions['questions_id'].isin(set(test_answer['answers_question_id'].values))].reset_index(drop=True)"
   ]
  },
  {
   "cell_type": "code",
   "execution_count": 42,
   "id": "90b48360",
   "metadata": {},
   "outputs": [],
   "source": [
    "test_answer_score = pd.merge(test_answer, answer_scores,\n",
    "                              left_on='answers_id', \n",
    "                              right_on='id', \n",
    "                              how='left').drop('id', axis=1)\n",
    "\n",
    "test_question_answer = pd.merge(test_question, test_answer_score,\n",
    "                                 left_on='questions_id', \n",
    "                                 right_on='answers_question_id', \n",
    "                                 how='right').drop('answers_question_id', axis=1)"
   ]
  },
  {
   "cell_type": "code",
   "execution_count": 43,
   "id": "453355fe",
   "metadata": {},
   "outputs": [],
   "source": [
    "#Create a set of questions that have at least one answers\n",
    "test_question_w_answer_set = set(test_question_answer['questions_id'].values)"
   ]
  },
  {
   "cell_type": "code",
   "execution_count": 44,
   "id": "f44bfae5",
   "metadata": {},
   "outputs": [],
   "source": [
    "#Create a set of professionals that answered at least one question\n",
    "test_professional_w_answer_set = set(test_answer['answers_author_id'].values)"
   ]
  },
  {
   "cell_type": "code",
   "execution_count": 45,
   "id": "899a85cb",
   "metadata": {},
   "outputs": [],
   "source": [
    "test_answer.rename(columns={'answers_id':'answer_id',\n",
    "                            'answers_author_id':'professional_id',\n",
    "                            'answers_question_id':'question_id',\n",
    "                            'answers_date_added':'answer_date_added',\n",
    "                            'answers_body':'answer_body'\n",
    "                           },inplace=True)"
   ]
  },
  {
   "cell_type": "markdown",
   "id": "4ed68319",
   "metadata": {},
   "source": [
    "### Questions profiles in the test set"
   ]
  },
  {
   "cell_type": "markdown",
   "id": "7b572c9f",
   "metadata": {},
   "source": [
    "#### Questions content"
   ]
  },
  {
   "cell_type": "code",
   "execution_count": 46,
   "id": "225d85fa",
   "metadata": {},
   "outputs": [],
   "source": [
    "#Combine questions_title and questions_body as questions_content\n",
    "test_question['question_content'] = \"\"\n",
    "test_question['question_content'] = test_question['questions_title'] + \" \" + test_question['questions_body']\n",
    "test_question.drop(['questions_title', 'questions_body'], axis=1, inplace=True)"
   ]
  },
  {
   "cell_type": "code",
   "execution_count": 47,
   "id": "fbc81b30",
   "metadata": {},
   "outputs": [],
   "source": [
    "#Clean the questions_content and tags for tf-idf\n",
    "test_question['question_content'] = test_question['question_content'].apply(clean_text)"
   ]
  },
  {
   "cell_type": "code",
   "execution_count": 48,
   "id": "67991b3b",
   "metadata": {},
   "outputs": [],
   "source": [
    "#Rename columns with appropriate names\n",
    "test_question.rename(columns={'questions_id':'question_id',\n",
    "                              'questions_date_added':'question_date_added',\n",
    "                              'questions_author_id':'question_author_id'},\n",
    "                      inplace=True)"
   ]
  },
  {
   "cell_type": "markdown",
   "id": "26d7fba3",
   "metadata": {},
   "source": [
    "#### Adding tags names to the questions in test set"
   ]
  },
  {
   "cell_type": "code",
   "execution_count": 49,
   "id": "0154b1c4",
   "metadata": {},
   "outputs": [],
   "source": [
    "#Combine the tags names list of each question to the training question data\n",
    "test_question = pd.merge(test_question, question_tag_list,\n",
    "                         left_on='question_id',\n",
    "                         right_on='question_id',\n",
    "                         how='left')"
   ]
  },
  {
   "cell_type": "code",
   "execution_count": 50,
   "id": "a1b909c8",
   "metadata": {},
   "outputs": [],
   "source": [
    "test_question['tag_name'].fillna('', inplace=True)"
   ]
  },
  {
   "cell_type": "code",
   "execution_count": 51,
   "id": "e0e0d6d4",
   "metadata": {},
   "outputs": [],
   "source": [
    "test_question.rename(columns={'question_author_id':'user_id'},inplace=True)"
   ]
  },
  {
   "cell_type": "markdown",
   "id": "97c7ae4e",
   "metadata": {},
   "source": [
    "### Professionals profiles in the test set"
   ]
  },
  {
   "cell_type": "markdown",
   "id": "93d4d0b5",
   "metadata": {},
   "source": [
    "#### Adding tags names to the professional test set"
   ]
  },
  {
   "cell_type": "code",
   "execution_count": 52,
   "id": "6fefe049",
   "metadata": {},
   "outputs": [],
   "source": [
    "#Create a professional test dataframe\n",
    "test_professional = professionals.copy(deep=True)\n",
    "test_professional = test_professional[test_professional[\"professionals_id\"].\\\n",
    "                                      isin(test_professional_w_answer_set)]"
   ]
  },
  {
   "cell_type": "code",
   "execution_count": 53,
   "id": "b5effdc7",
   "metadata": {},
   "outputs": [],
   "source": [
    "test_professional.rename(columns={'professionals_id':'professional_id',\n",
    "                                   'professionals_date_joined':'professional_date_joined'},\n",
    "                          inplace=True)"
   ]
  },
  {
   "cell_type": "code",
   "execution_count": 54,
   "id": "b79b3f20",
   "metadata": {},
   "outputs": [],
   "source": [
    "test_professional.drop(['professionals_location', 'professionals_industry', 'professionals_headline'], axis=1, inplace=True)"
   ]
  },
  {
   "cell_type": "code",
   "execution_count": 55,
   "id": "b213001a",
   "metadata": {},
   "outputs": [],
   "source": [
    "test_professional = test_professional.merge(user_tag_list,\n",
    "                                            left_on='professional_id',\n",
    "                                            right_on='user_id',\n",
    "                                            how='left').drop('user_id', axis=1)"
   ]
  },
  {
   "cell_type": "code",
   "execution_count": 56,
   "id": "13857027",
   "metadata": {},
   "outputs": [],
   "source": [
    "test_professional['tag_name'].fillna('', inplace=True)"
   ]
  },
  {
   "cell_type": "markdown",
   "id": "e3f38ee3",
   "metadata": {},
   "source": [
    "#### Professionals profiles with previous questions content"
   ]
  },
  {
   "cell_type": "code",
   "execution_count": 57,
   "id": "f2d02963",
   "metadata": {},
   "outputs": [],
   "source": [
    "#Merge the \n",
    "test_question_w_answer = pd.merge(test_answer, test_question,\n",
    "                                        left_on='question_id',\n",
    "                                        right_on='question_id',\n",
    "                                        how='left')"
   ]
  },
  {
   "cell_type": "code",
   "execution_count": 58,
   "id": "511347df",
   "metadata": {
    "scrolled": false
   },
   "outputs": [],
   "source": [
    "test_professional_question = test_question_w_answer.\\\n",
    "                                            groupby(\"professional_id\")[\"question_content\"].\\\n",
    "                                            agg(lambda x: \",\".join(x)).\\\n",
    "                                            reset_index()"
   ]
  },
  {
   "cell_type": "code",
   "execution_count": 59,
   "id": "da221b32",
   "metadata": {},
   "outputs": [],
   "source": [
    "test_professional_profile = pd.merge(test_professional, test_professional_question,\n",
    "                                          left_on='professional_id',\n",
    "                                          right_on='professional_id',\n",
    "                                          how='left')"
   ]
  },
  {
   "cell_type": "code",
   "execution_count": 60,
   "id": "641e63df",
   "metadata": {},
   "outputs": [],
   "source": [
    "test_professional_profile.fillna('', inplace=True)"
   ]
  },
  {
   "cell_type": "code",
   "execution_count": 61,
   "id": "bc3a397c",
   "metadata": {},
   "outputs": [],
   "source": [
    "test_professional_profile.to_csv('test_data.csv', index=False, sep=',', header=True)"
   ]
  }
 ],
 "metadata": {
  "kernelspec": {
   "display_name": "Python 3 (ipykernel)",
   "language": "python",
   "name": "python3"
  },
  "language_info": {
   "codemirror_mode": {
    "name": "ipython",
    "version": 3
   },
   "file_extension": ".py",
   "mimetype": "text/x-python",
   "name": "python",
   "nbconvert_exporter": "python",
   "pygments_lexer": "ipython3",
   "version": "3.9.2"
  },
  "toc": {
   "base_numbering": 1,
   "nav_menu": {},
   "number_sections": true,
   "sideBar": true,
   "skip_h1_title": false,
   "title_cell": "Table of Contents",
   "title_sidebar": "Contents",
   "toc_cell": false,
   "toc_position": {
    "height": "calc(100% - 180px)",
    "left": "10px",
    "top": "150px",
    "width": "189.656px"
   },
   "toc_section_display": true,
   "toc_window_display": true
  }
 },
 "nbformat": 4,
 "nbformat_minor": 5
}
