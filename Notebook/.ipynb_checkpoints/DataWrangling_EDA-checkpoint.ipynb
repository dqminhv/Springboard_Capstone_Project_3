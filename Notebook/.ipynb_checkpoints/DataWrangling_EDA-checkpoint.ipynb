{
 "cells": [
  {
   "cell_type": "code",
   "execution_count": 1,
   "id": "eaa92de0",
   "metadata": {},
   "outputs": [],
   "source": [
    "import pandas as pd\n",
    "import numpy as np\n",
    "import matplotlib.pyplot as plt\n",
    "import seaborn as sns\n",
    "import nltk\n",
    "#nltk.download('stopwords')\n",
    "#nltk.download('punkt')\n",
    "from nltk.corpus import stopwords\n",
    "from nltk.tokenize import word_tokenize\n",
    "from nltk.stem import SnowballStemmer\n",
    "import re"
   ]
  },
  {
   "cell_type": "code",
   "execution_count": 2,
   "id": "95bb4362",
   "metadata": {},
   "outputs": [],
   "source": [
    "#The latest date in the dataset is 2019-02-26. We will use this date as our current day.\n",
    "today = '2019-02-26'"
   ]
  },
  {
   "cell_type": "markdown",
   "id": "c9f7bc0c",
   "metadata": {},
   "source": [
    "# Data Loading & Data Exploration"
   ]
  },
  {
   "cell_type": "code",
   "execution_count": 3,
   "id": "1bb58214",
   "metadata": {},
   "outputs": [
    {
     "ename": "FileNotFoundError",
     "evalue": "[Errno 2] No such file or directory: '/home/dqminhv/Springboard/Springboard_Capstone_Project_3/Data/data-science-for-good-careervillage/answers.csv'",
     "output_type": "error",
     "traceback": [
      "\u001b[0;31m---------------------------------------------------------------------------\u001b[0m",
      "\u001b[0;31mFileNotFoundError\u001b[0m                         Traceback (most recent call last)",
      "Cell \u001b[0;32mIn[3], line 3\u001b[0m\n\u001b[1;32m      1\u001b[0m root_path \u001b[38;5;241m=\u001b[39m \u001b[38;5;124m'\u001b[39m\u001b[38;5;124m/home/dqminhv/Springboard/Springboard_Capstone_Project_3/Data/data-science-for-good-careervillage/\u001b[39m\u001b[38;5;124m'\u001b[39m\n\u001b[0;32m----> 3\u001b[0m answers \u001b[38;5;241m=\u001b[39m \u001b[43mpd\u001b[49m\u001b[38;5;241;43m.\u001b[39;49m\u001b[43mread_csv\u001b[49m\u001b[43m(\u001b[49m\u001b[43mroot_path\u001b[49m\u001b[43m \u001b[49m\u001b[38;5;241;43m+\u001b[39;49m\u001b[43m \u001b[49m\u001b[38;5;124;43m'\u001b[39;49m\u001b[38;5;124;43manswers.csv\u001b[39;49m\u001b[38;5;124;43m'\u001b[39;49m\u001b[43m)\u001b[49m\n\u001b[1;32m      4\u001b[0m answer_scores \u001b[38;5;241m=\u001b[39m pd\u001b[38;5;241m.\u001b[39mread_csv(root_path \u001b[38;5;241m+\u001b[39m \u001b[38;5;124m'\u001b[39m\u001b[38;5;124manswer_scores.csv\u001b[39m\u001b[38;5;124m'\u001b[39m)\n\u001b[1;32m      5\u001b[0m comments \u001b[38;5;241m=\u001b[39m pd\u001b[38;5;241m.\u001b[39mread_csv(root_path \u001b[38;5;241m+\u001b[39m \u001b[38;5;124m'\u001b[39m\u001b[38;5;124mcomments.csv\u001b[39m\u001b[38;5;124m'\u001b[39m)\n",
      "File \u001b[0;32m~/.local/lib/python3.9/site-packages/pandas/io/parsers/readers.py:912\u001b[0m, in \u001b[0;36mread_csv\u001b[0;34m(filepath_or_buffer, sep, delimiter, header, names, index_col, usecols, dtype, engine, converters, true_values, false_values, skipinitialspace, skiprows, skipfooter, nrows, na_values, keep_default_na, na_filter, verbose, skip_blank_lines, parse_dates, infer_datetime_format, keep_date_col, date_parser, date_format, dayfirst, cache_dates, iterator, chunksize, compression, thousands, decimal, lineterminator, quotechar, quoting, doublequote, escapechar, comment, encoding, encoding_errors, dialect, on_bad_lines, delim_whitespace, low_memory, memory_map, float_precision, storage_options, dtype_backend)\u001b[0m\n\u001b[1;32m    899\u001b[0m kwds_defaults \u001b[38;5;241m=\u001b[39m _refine_defaults_read(\n\u001b[1;32m    900\u001b[0m     dialect,\n\u001b[1;32m    901\u001b[0m     delimiter,\n\u001b[0;32m   (...)\u001b[0m\n\u001b[1;32m    908\u001b[0m     dtype_backend\u001b[38;5;241m=\u001b[39mdtype_backend,\n\u001b[1;32m    909\u001b[0m )\n\u001b[1;32m    910\u001b[0m kwds\u001b[38;5;241m.\u001b[39mupdate(kwds_defaults)\n\u001b[0;32m--> 912\u001b[0m \u001b[38;5;28;01mreturn\u001b[39;00m \u001b[43m_read\u001b[49m\u001b[43m(\u001b[49m\u001b[43mfilepath_or_buffer\u001b[49m\u001b[43m,\u001b[49m\u001b[43m \u001b[49m\u001b[43mkwds\u001b[49m\u001b[43m)\u001b[49m\n",
      "File \u001b[0;32m~/.local/lib/python3.9/site-packages/pandas/io/parsers/readers.py:577\u001b[0m, in \u001b[0;36m_read\u001b[0;34m(filepath_or_buffer, kwds)\u001b[0m\n\u001b[1;32m    574\u001b[0m _validate_names(kwds\u001b[38;5;241m.\u001b[39mget(\u001b[38;5;124m\"\u001b[39m\u001b[38;5;124mnames\u001b[39m\u001b[38;5;124m\"\u001b[39m, \u001b[38;5;28;01mNone\u001b[39;00m))\n\u001b[1;32m    576\u001b[0m \u001b[38;5;66;03m# Create the parser.\u001b[39;00m\n\u001b[0;32m--> 577\u001b[0m parser \u001b[38;5;241m=\u001b[39m \u001b[43mTextFileReader\u001b[49m\u001b[43m(\u001b[49m\u001b[43mfilepath_or_buffer\u001b[49m\u001b[43m,\u001b[49m\u001b[43m \u001b[49m\u001b[38;5;241;43m*\u001b[39;49m\u001b[38;5;241;43m*\u001b[39;49m\u001b[43mkwds\u001b[49m\u001b[43m)\u001b[49m\n\u001b[1;32m    579\u001b[0m \u001b[38;5;28;01mif\u001b[39;00m chunksize \u001b[38;5;129;01mor\u001b[39;00m iterator:\n\u001b[1;32m    580\u001b[0m     \u001b[38;5;28;01mreturn\u001b[39;00m parser\n",
      "File \u001b[0;32m~/.local/lib/python3.9/site-packages/pandas/io/parsers/readers.py:1407\u001b[0m, in \u001b[0;36mTextFileReader.__init__\u001b[0;34m(self, f, engine, **kwds)\u001b[0m\n\u001b[1;32m   1404\u001b[0m     \u001b[38;5;28mself\u001b[39m\u001b[38;5;241m.\u001b[39moptions[\u001b[38;5;124m\"\u001b[39m\u001b[38;5;124mhas_index_names\u001b[39m\u001b[38;5;124m\"\u001b[39m] \u001b[38;5;241m=\u001b[39m kwds[\u001b[38;5;124m\"\u001b[39m\u001b[38;5;124mhas_index_names\u001b[39m\u001b[38;5;124m\"\u001b[39m]\n\u001b[1;32m   1406\u001b[0m \u001b[38;5;28mself\u001b[39m\u001b[38;5;241m.\u001b[39mhandles: IOHandles \u001b[38;5;241m|\u001b[39m \u001b[38;5;28;01mNone\u001b[39;00m \u001b[38;5;241m=\u001b[39m \u001b[38;5;28;01mNone\u001b[39;00m\n\u001b[0;32m-> 1407\u001b[0m \u001b[38;5;28mself\u001b[39m\u001b[38;5;241m.\u001b[39m_engine \u001b[38;5;241m=\u001b[39m \u001b[38;5;28;43mself\u001b[39;49m\u001b[38;5;241;43m.\u001b[39;49m\u001b[43m_make_engine\u001b[49m\u001b[43m(\u001b[49m\u001b[43mf\u001b[49m\u001b[43m,\u001b[49m\u001b[43m \u001b[49m\u001b[38;5;28;43mself\u001b[39;49m\u001b[38;5;241;43m.\u001b[39;49m\u001b[43mengine\u001b[49m\u001b[43m)\u001b[49m\n",
      "File \u001b[0;32m~/.local/lib/python3.9/site-packages/pandas/io/parsers/readers.py:1661\u001b[0m, in \u001b[0;36mTextFileReader._make_engine\u001b[0;34m(self, f, engine)\u001b[0m\n\u001b[1;32m   1659\u001b[0m     \u001b[38;5;28;01mif\u001b[39;00m \u001b[38;5;124m\"\u001b[39m\u001b[38;5;124mb\u001b[39m\u001b[38;5;124m\"\u001b[39m \u001b[38;5;129;01mnot\u001b[39;00m \u001b[38;5;129;01min\u001b[39;00m mode:\n\u001b[1;32m   1660\u001b[0m         mode \u001b[38;5;241m+\u001b[39m\u001b[38;5;241m=\u001b[39m \u001b[38;5;124m\"\u001b[39m\u001b[38;5;124mb\u001b[39m\u001b[38;5;124m\"\u001b[39m\n\u001b[0;32m-> 1661\u001b[0m \u001b[38;5;28mself\u001b[39m\u001b[38;5;241m.\u001b[39mhandles \u001b[38;5;241m=\u001b[39m \u001b[43mget_handle\u001b[49m\u001b[43m(\u001b[49m\n\u001b[1;32m   1662\u001b[0m \u001b[43m    \u001b[49m\u001b[43mf\u001b[49m\u001b[43m,\u001b[49m\n\u001b[1;32m   1663\u001b[0m \u001b[43m    \u001b[49m\u001b[43mmode\u001b[49m\u001b[43m,\u001b[49m\n\u001b[1;32m   1664\u001b[0m \u001b[43m    \u001b[49m\u001b[43mencoding\u001b[49m\u001b[38;5;241;43m=\u001b[39;49m\u001b[38;5;28;43mself\u001b[39;49m\u001b[38;5;241;43m.\u001b[39;49m\u001b[43moptions\u001b[49m\u001b[38;5;241;43m.\u001b[39;49m\u001b[43mget\u001b[49m\u001b[43m(\u001b[49m\u001b[38;5;124;43m\"\u001b[39;49m\u001b[38;5;124;43mencoding\u001b[39;49m\u001b[38;5;124;43m\"\u001b[39;49m\u001b[43m,\u001b[49m\u001b[43m \u001b[49m\u001b[38;5;28;43;01mNone\u001b[39;49;00m\u001b[43m)\u001b[49m\u001b[43m,\u001b[49m\n\u001b[1;32m   1665\u001b[0m \u001b[43m    \u001b[49m\u001b[43mcompression\u001b[49m\u001b[38;5;241;43m=\u001b[39;49m\u001b[38;5;28;43mself\u001b[39;49m\u001b[38;5;241;43m.\u001b[39;49m\u001b[43moptions\u001b[49m\u001b[38;5;241;43m.\u001b[39;49m\u001b[43mget\u001b[49m\u001b[43m(\u001b[49m\u001b[38;5;124;43m\"\u001b[39;49m\u001b[38;5;124;43mcompression\u001b[39;49m\u001b[38;5;124;43m\"\u001b[39;49m\u001b[43m,\u001b[49m\u001b[43m \u001b[49m\u001b[38;5;28;43;01mNone\u001b[39;49;00m\u001b[43m)\u001b[49m\u001b[43m,\u001b[49m\n\u001b[1;32m   1666\u001b[0m \u001b[43m    \u001b[49m\u001b[43mmemory_map\u001b[49m\u001b[38;5;241;43m=\u001b[39;49m\u001b[38;5;28;43mself\u001b[39;49m\u001b[38;5;241;43m.\u001b[39;49m\u001b[43moptions\u001b[49m\u001b[38;5;241;43m.\u001b[39;49m\u001b[43mget\u001b[49m\u001b[43m(\u001b[49m\u001b[38;5;124;43m\"\u001b[39;49m\u001b[38;5;124;43mmemory_map\u001b[39;49m\u001b[38;5;124;43m\"\u001b[39;49m\u001b[43m,\u001b[49m\u001b[43m \u001b[49m\u001b[38;5;28;43;01mFalse\u001b[39;49;00m\u001b[43m)\u001b[49m\u001b[43m,\u001b[49m\n\u001b[1;32m   1667\u001b[0m \u001b[43m    \u001b[49m\u001b[43mis_text\u001b[49m\u001b[38;5;241;43m=\u001b[39;49m\u001b[43mis_text\u001b[49m\u001b[43m,\u001b[49m\n\u001b[1;32m   1668\u001b[0m \u001b[43m    \u001b[49m\u001b[43merrors\u001b[49m\u001b[38;5;241;43m=\u001b[39;49m\u001b[38;5;28;43mself\u001b[39;49m\u001b[38;5;241;43m.\u001b[39;49m\u001b[43moptions\u001b[49m\u001b[38;5;241;43m.\u001b[39;49m\u001b[43mget\u001b[49m\u001b[43m(\u001b[49m\u001b[38;5;124;43m\"\u001b[39;49m\u001b[38;5;124;43mencoding_errors\u001b[39;49m\u001b[38;5;124;43m\"\u001b[39;49m\u001b[43m,\u001b[49m\u001b[43m \u001b[49m\u001b[38;5;124;43m\"\u001b[39;49m\u001b[38;5;124;43mstrict\u001b[39;49m\u001b[38;5;124;43m\"\u001b[39;49m\u001b[43m)\u001b[49m\u001b[43m,\u001b[49m\n\u001b[1;32m   1669\u001b[0m \u001b[43m    \u001b[49m\u001b[43mstorage_options\u001b[49m\u001b[38;5;241;43m=\u001b[39;49m\u001b[38;5;28;43mself\u001b[39;49m\u001b[38;5;241;43m.\u001b[39;49m\u001b[43moptions\u001b[49m\u001b[38;5;241;43m.\u001b[39;49m\u001b[43mget\u001b[49m\u001b[43m(\u001b[49m\u001b[38;5;124;43m\"\u001b[39;49m\u001b[38;5;124;43mstorage_options\u001b[39;49m\u001b[38;5;124;43m\"\u001b[39;49m\u001b[43m,\u001b[49m\u001b[43m \u001b[49m\u001b[38;5;28;43;01mNone\u001b[39;49;00m\u001b[43m)\u001b[49m\u001b[43m,\u001b[49m\n\u001b[1;32m   1670\u001b[0m \u001b[43m\u001b[49m\u001b[43m)\u001b[49m\n\u001b[1;32m   1671\u001b[0m \u001b[38;5;28;01massert\u001b[39;00m \u001b[38;5;28mself\u001b[39m\u001b[38;5;241m.\u001b[39mhandles \u001b[38;5;129;01mis\u001b[39;00m \u001b[38;5;129;01mnot\u001b[39;00m \u001b[38;5;28;01mNone\u001b[39;00m\n\u001b[1;32m   1672\u001b[0m f \u001b[38;5;241m=\u001b[39m \u001b[38;5;28mself\u001b[39m\u001b[38;5;241m.\u001b[39mhandles\u001b[38;5;241m.\u001b[39mhandle\n",
      "File \u001b[0;32m~/.local/lib/python3.9/site-packages/pandas/io/common.py:859\u001b[0m, in \u001b[0;36mget_handle\u001b[0;34m(path_or_buf, mode, encoding, compression, memory_map, is_text, errors, storage_options)\u001b[0m\n\u001b[1;32m    854\u001b[0m \u001b[38;5;28;01melif\u001b[39;00m \u001b[38;5;28misinstance\u001b[39m(handle, \u001b[38;5;28mstr\u001b[39m):\n\u001b[1;32m    855\u001b[0m     \u001b[38;5;66;03m# Check whether the filename is to be opened in binary mode.\u001b[39;00m\n\u001b[1;32m    856\u001b[0m     \u001b[38;5;66;03m# Binary mode does not support 'encoding' and 'newline'.\u001b[39;00m\n\u001b[1;32m    857\u001b[0m     \u001b[38;5;28;01mif\u001b[39;00m ioargs\u001b[38;5;241m.\u001b[39mencoding \u001b[38;5;129;01mand\u001b[39;00m \u001b[38;5;124m\"\u001b[39m\u001b[38;5;124mb\u001b[39m\u001b[38;5;124m\"\u001b[39m \u001b[38;5;129;01mnot\u001b[39;00m \u001b[38;5;129;01min\u001b[39;00m ioargs\u001b[38;5;241m.\u001b[39mmode:\n\u001b[1;32m    858\u001b[0m         \u001b[38;5;66;03m# Encoding\u001b[39;00m\n\u001b[0;32m--> 859\u001b[0m         handle \u001b[38;5;241m=\u001b[39m \u001b[38;5;28;43mopen\u001b[39;49m\u001b[43m(\u001b[49m\n\u001b[1;32m    860\u001b[0m \u001b[43m            \u001b[49m\u001b[43mhandle\u001b[49m\u001b[43m,\u001b[49m\n\u001b[1;32m    861\u001b[0m \u001b[43m            \u001b[49m\u001b[43mioargs\u001b[49m\u001b[38;5;241;43m.\u001b[39;49m\u001b[43mmode\u001b[49m\u001b[43m,\u001b[49m\n\u001b[1;32m    862\u001b[0m \u001b[43m            \u001b[49m\u001b[43mencoding\u001b[49m\u001b[38;5;241;43m=\u001b[39;49m\u001b[43mioargs\u001b[49m\u001b[38;5;241;43m.\u001b[39;49m\u001b[43mencoding\u001b[49m\u001b[43m,\u001b[49m\n\u001b[1;32m    863\u001b[0m \u001b[43m            \u001b[49m\u001b[43merrors\u001b[49m\u001b[38;5;241;43m=\u001b[39;49m\u001b[43merrors\u001b[49m\u001b[43m,\u001b[49m\n\u001b[1;32m    864\u001b[0m \u001b[43m            \u001b[49m\u001b[43mnewline\u001b[49m\u001b[38;5;241;43m=\u001b[39;49m\u001b[38;5;124;43m\"\u001b[39;49m\u001b[38;5;124;43m\"\u001b[39;49m\u001b[43m,\u001b[49m\n\u001b[1;32m    865\u001b[0m \u001b[43m        \u001b[49m\u001b[43m)\u001b[49m\n\u001b[1;32m    866\u001b[0m     \u001b[38;5;28;01melse\u001b[39;00m:\n\u001b[1;32m    867\u001b[0m         \u001b[38;5;66;03m# Binary mode\u001b[39;00m\n\u001b[1;32m    868\u001b[0m         handle \u001b[38;5;241m=\u001b[39m \u001b[38;5;28mopen\u001b[39m(handle, ioargs\u001b[38;5;241m.\u001b[39mmode)\n",
      "\u001b[0;31mFileNotFoundError\u001b[0m: [Errno 2] No such file or directory: '/home/dqminhv/Springboard/Springboard_Capstone_Project_3/Data/data-science-for-good-careervillage/answers.csv'"
     ]
    }
   ],
   "source": [
    "root_path = '/home/dqminhv/Springboard/Springboard_Capstone_Project_3/Data/data-science-for-good-careervillage/'\n",
    "\n",
    "answers = pd.read_csv(root_path + 'answers.csv')\n",
    "answer_scores = pd.read_csv(root_path + 'answer_scores.csv')\n",
    "comments = pd.read_csv(root_path + 'comments.csv')\n",
    "emails = pd.read_csv(root_path + 'emails.csv')\n",
    "groups = pd.read_csv(root_path + 'groups.csv')\n",
    "group_memberships = pd.read_csv(root_path + 'group_memberships.csv')\n",
    "matches = pd.read_csv(root_path + 'matches.csv')\n",
    "professionals = pd.read_csv(root_path + 'professionals.csv')\n",
    "questions = pd.read_csv(root_path + 'questions.csv')\n",
    "question_scores = pd.read_csv(root_path + 'question_scores.csv')\n",
    "school_memberships = pd.read_csv(root_path + 'school_memberships.csv')\n",
    "students = pd.read_csv(root_path + 'students.csv')\n",
    "tags = pd.read_csv(root_path + 'tags.csv')\n",
    "tag_questions = pd.read_csv(root_path + 'tag_questions.csv')\n",
    "tag_users = pd.read_csv(root_path + 'tag_users.csv')"
   ]
  },
  {
   "cell_type": "markdown",
   "id": "ef1f58a1",
   "metadata": {},
   "source": [
    "## comments"
   ]
  },
  {
   "cell_type": "code",
   "execution_count": null,
   "id": "cc8f5637",
   "metadata": {},
   "outputs": [],
   "source": [
    "comments.head()"
   ]
  },
  {
   "cell_type": "code",
   "execution_count": null,
   "id": "e1de85e0",
   "metadata": {},
   "outputs": [],
   "source": [
    "#Convert comments_date_added to a datetime object\n",
    "comments['comments_date_added'] = pd.to_datetime(comments['comments_date_added'])"
   ]
  },
  {
   "cell_type": "markdown",
   "id": "0cc36fe5",
   "metadata": {},
   "source": [
    "## matches"
   ]
  },
  {
   "cell_type": "code",
   "execution_count": null,
   "id": "da32ac84",
   "metadata": {},
   "outputs": [],
   "source": [
    "matches.head()"
   ]
  },
  {
   "cell_type": "code",
   "execution_count": null,
   "id": "90a1609c",
   "metadata": {},
   "outputs": [],
   "source": [
    "#Top 10 questions that are emailed to professionals\n",
    "matches['matches_question_id'].value_counts()[:10]"
   ]
  },
  {
   "cell_type": "markdown",
   "id": "3de320c5",
   "metadata": {},
   "source": [
    "## tags"
   ]
  },
  {
   "cell_type": "code",
   "execution_count": null,
   "id": "2f956479",
   "metadata": {},
   "outputs": [],
   "source": [
    "tags.head()"
   ]
  },
  {
   "cell_type": "markdown",
   "id": "7a92fc3f",
   "metadata": {},
   "source": [
    "## tag_questions"
   ]
  },
  {
   "cell_type": "code",
   "execution_count": null,
   "id": "4af8bf79",
   "metadata": {
    "scrolled": true
   },
   "outputs": [],
   "source": [
    "tag_questions.head()"
   ]
  },
  {
   "cell_type": "markdown",
   "id": "5d6f8692",
   "metadata": {},
   "source": [
    "**Combine tag_questions with tags.**"
   ]
  },
  {
   "cell_type": "code",
   "execution_count": null,
   "id": "c5db954c",
   "metadata": {},
   "outputs": [],
   "source": [
    "tag_questions = tag_questions.merge(tags, left_on='tag_questions_tag_id', right_on='tags_tag_id', how='left')"
   ]
  },
  {
   "cell_type": "code",
   "execution_count": null,
   "id": "7d154912",
   "metadata": {},
   "outputs": [],
   "source": [
    "tag_questions.drop('tags_tag_id', axis=1, inplace=True)"
   ]
  },
  {
   "cell_type": "code",
   "execution_count": null,
   "id": "1bc36408",
   "metadata": {},
   "outputs": [],
   "source": [
    "tag_questions.head()"
   ]
  },
  {
   "cell_type": "markdown",
   "id": "6a2eba3b",
   "metadata": {},
   "source": [
    "## tag_users"
   ]
  },
  {
   "cell_type": "code",
   "execution_count": null,
   "id": "65df1aeb",
   "metadata": {
    "scrolled": true
   },
   "outputs": [],
   "source": [
    "tag_users.head()"
   ]
  },
  {
   "cell_type": "markdown",
   "id": "9c7c39fa",
   "metadata": {},
   "source": [
    "**Combine tag_users with tags.**"
   ]
  },
  {
   "cell_type": "code",
   "execution_count": null,
   "id": "0fb3b9a3",
   "metadata": {},
   "outputs": [],
   "source": [
    "tag_users = tag_users.merge(tags, left_on='tag_users_tag_id', right_on='tags_tag_id', how='left').drop('tag_users_tag_id', axis=1)"
   ]
  },
  {
   "cell_type": "code",
   "execution_count": null,
   "id": "96cfedce",
   "metadata": {},
   "outputs": [],
   "source": [
    "tag_users.head()"
   ]
  },
  {
   "cell_type": "markdown",
   "id": "3b142977",
   "metadata": {},
   "source": [
    "## groups"
   ]
  },
  {
   "cell_type": "code",
   "execution_count": null,
   "id": "47765872",
   "metadata": {},
   "outputs": [],
   "source": [
    "groups.head()"
   ]
  },
  {
   "cell_type": "code",
   "execution_count": null,
   "id": "37cdafa7",
   "metadata": {},
   "outputs": [],
   "source": [
    "#Number of different group\n",
    "print('Types of groups: ')\n",
    "print(groups['groups_group_type'].unique())"
   ]
  },
  {
   "cell_type": "code",
   "execution_count": null,
   "id": "9fb62041",
   "metadata": {},
   "outputs": [],
   "source": [
    "#Make a countplot for groups to see which groups are most popular\n",
    "sns.countplot(x='groups_group_type', data=groups, order=groups['groups_group_type'].value_counts().index)\n",
    "plt.xticks(rotation=90)\n",
    "plt.show()"
   ]
  },
  {
   "cell_type": "markdown",
   "id": "d760e046",
   "metadata": {},
   "source": [
    "## group_memberships"
   ]
  },
  {
   "cell_type": "code",
   "execution_count": null,
   "id": "5fdd9796",
   "metadata": {
    "scrolled": true
   },
   "outputs": [],
   "source": [
    "group_memberships.head()"
   ]
  },
  {
   "cell_type": "code",
   "execution_count": null,
   "id": "57b48159",
   "metadata": {},
   "outputs": [],
   "source": [
    "print('Number of users that belong to at least one group: ',\n",
    "      group_memberships['group_memberships_user_id'].nunique())"
   ]
  },
  {
   "cell_type": "markdown",
   "id": "3669221d",
   "metadata": {},
   "source": [
    "## questions & question_scores"
   ]
  },
  {
   "cell_type": "markdown",
   "id": "478aea61",
   "metadata": {},
   "source": [
    "### Combining questions and question_scores dataframes"
   ]
  },
  {
   "cell_type": "code",
   "execution_count": null,
   "id": "79a554c4",
   "metadata": {
    "scrolled": false
   },
   "outputs": [],
   "source": [
    "#Let look at the first few rows of questions\n",
    "questions.head()"
   ]
  },
  {
   "cell_type": "code",
   "execution_count": null,
   "id": "88489497",
   "metadata": {},
   "outputs": [],
   "source": [
    "#Convert the 'questions_date_added' to datetime objects.\n",
    "questions['questions_date_added'] = pd.to_datetime(questions['questions_date_added'])"
   ]
  },
  {
   "cell_type": "code",
   "execution_count": null,
   "id": "1b631c18",
   "metadata": {},
   "outputs": [],
   "source": [
    "#Check for missing values\n",
    "questions.isnull().sum()"
   ]
  },
  {
   "cell_type": "code",
   "execution_count": null,
   "id": "6fa29f9f",
   "metadata": {},
   "outputs": [],
   "source": [
    "#Let look at the first few rows of question_scores\n",
    "question_scores.head()"
   ]
  },
  {
   "cell_type": "code",
   "execution_count": null,
   "id": "d98e48d4",
   "metadata": {},
   "outputs": [],
   "source": [
    "#Check for missing values\n",
    "question_scores.isnull().sum()"
   ]
  },
  {
   "cell_type": "code",
   "execution_count": null,
   "id": "cb23aab0",
   "metadata": {},
   "outputs": [],
   "source": [
    "#Merge questions and question_scores\n",
    "questions_question_scores = pd.merge(questions, question_scores,\n",
    "                                     left_on='questions_id', \n",
    "                                     right_on='id', \n",
    "                                     how='left').drop('id', axis=1)"
   ]
  },
  {
   "cell_type": "code",
   "execution_count": null,
   "id": "5d4701a5",
   "metadata": {
    "scrolled": false
   },
   "outputs": [],
   "source": [
    "questions_question_scores.info()"
   ]
  },
  {
   "cell_type": "markdown",
   "id": "084ec40e",
   "metadata": {},
   "source": [
    "### Number of users that post at least one questions"
   ]
  },
  {
   "cell_type": "code",
   "execution_count": null,
   "id": "665cd95e",
   "metadata": {
    "scrolled": true
   },
   "outputs": [],
   "source": [
    "print('Number of users that post at least one question: ', questions_question_scores['questions_author_id'].nunique())"
   ]
  },
  {
   "cell_type": "code",
   "execution_count": null,
   "id": "a38d2c5e",
   "metadata": {
    "scrolled": true
   },
   "outputs": [],
   "source": [
    "print('Statistics of the number of questions a user asked: \\n', \n",
    "     questions_question_scores.groupby('questions_author_id').size().describe())"
   ]
  },
  {
   "cell_type": "markdown",
   "id": "105f9d94",
   "metadata": {},
   "source": [
    "**On average, users who asked at least one question asked about 2 questions.**"
   ]
  },
  {
   "cell_type": "markdown",
   "id": "b3c0ab57",
   "metadata": {},
   "source": [
    "### Number of questions posted on daily basic"
   ]
  },
  {
   "cell_type": "code",
   "execution_count": null,
   "id": "4e019a1b",
   "metadata": {},
   "outputs": [],
   "source": [
    "question_by_date = pd.DataFrame(questions_question_scores.groupby(questions_question_scores['questions_date_added'].dt.date).size().reset_index(name='count'))"
   ]
  },
  {
   "cell_type": "code",
   "execution_count": null,
   "id": "c1967884",
   "metadata": {},
   "outputs": [],
   "source": [
    "#Create time series plot for daily questions asked\n",
    "plt.figure(figsize=(20, 6))\n",
    "plt.plot(question_by_date.set_index('questions_date_added')['count'])\n",
    "plt.title('Daily questions asked')\n",
    "plt.xlabel('Date')\n",
    "plt.ylabel('Count')\n",
    "plt.grid(True)\n",
    "plt.show()"
   ]
  },
  {
   "cell_type": "code",
   "execution_count": null,
   "id": "56b4ad12",
   "metadata": {
    "scrolled": true
   },
   "outputs": [],
   "source": [
    "#Let print out the statistics of the number of questions asked daily.\n",
    "print('Stats of the number of questions asked daily.\\n')\n",
    "print(question_by_date.describe())"
   ]
  },
  {
   "cell_type": "code",
   "execution_count": null,
   "id": "b3f21555",
   "metadata": {},
   "outputs": [],
   "source": [
    "# Create boxplot\n",
    "plt.figure(figsize=(15, 6))\n",
    "sns.boxplot(x='count', data=question_by_date, legend=False)\n",
    "plt.title('Boxplot of N.o of questions asked daily')\n",
    "plt.show()"
   ]
  },
  {
   "cell_type": "markdown",
   "id": "077cc82d",
   "metadata": {},
   "source": [
    "**Normally, there are less than 15 questions asked per day. However, there are some of the time that the number of questions asked jumps up quite significantly. One of the possible explaination could be that most career related questions will be asked during graduation month. We will create boxplots of daily questions asked for each month to see if this is the case.**"
   ]
  },
  {
   "cell_type": "code",
   "execution_count": null,
   "id": "246bdac7",
   "metadata": {},
   "outputs": [],
   "source": [
    "#Group the dataframe by month.\n",
    "question_by_date['month'] = pd.to_datetime(question_by_date['questions_date_added']).dt.month"
   ]
  },
  {
   "cell_type": "code",
   "execution_count": null,
   "id": "5c04ed19",
   "metadata": {
    "scrolled": true
   },
   "outputs": [],
   "source": [
    "#Calculate the average number of questions asked daily for each month\n",
    "question_by_month = question_by_date.groupby('month').agg({'count':'mean'}).reset_index()"
   ]
  },
  {
   "cell_type": "code",
   "execution_count": null,
   "id": "e7f4b3d8",
   "metadata": {
    "scrolled": true
   },
   "outputs": [],
   "source": [
    "# Create boxplot\n",
    "plt.figure(figsize=(15, 6))\n",
    "sns.boxplot(x='month', y='count', data=question_by_date, hue='month', palette='viridis', legend=False, showfliers=False)\n",
    "plt.axhline(y = question_by_month['count'].quantile(q=.25), color = 'r', linestyle = '--')\n",
    "plt.axhline(y = question_by_month['count'].quantile(q=.50), color = 'r', linestyle = '-')\n",
    "plt.axhline(y = question_by_month['count'].quantile(q=.75), color = 'r', linestyle = '--')\n",
    "plt.title('Boxplot of Daily Questions Asked by Months')\n",
    "plt.show()"
   ]
  },
  {
   "cell_type": "markdown",
   "id": "7a24761c",
   "metadata": {},
   "source": [
    "**From the above plot, it seems that most questions were asked in May, which is reasonable since May is the graduation month. January and August also have higher number of daily questions asked compare to other months.**"
   ]
  },
  {
   "cell_type": "markdown",
   "id": "4ac6110f",
   "metadata": {},
   "source": [
    "**Let make a cummulative sum of the number of questions asked daily.**"
   ]
  },
  {
   "cell_type": "code",
   "execution_count": null,
   "id": "051e5844",
   "metadata": {
    "scrolled": true
   },
   "outputs": [],
   "source": [
    "# Plotting\n",
    "plt.figure(figsize=(20, 6))\n",
    "plt.plot(question_by_date.set_index('questions_date_added')['count'].cumsum())\n",
    "plt.title('Cumulative Sum of Daily Questions Asked')\n",
    "plt.xlabel('Date')\n",
    "plt.ylabel('N.o of questions')\n",
    "plt.grid(True)\n",
    "plt.show()"
   ]
  },
  {
   "cell_type": "markdown",
   "id": "636914ec",
   "metadata": {},
   "source": [
    "**There was a significant increase in the number of questions asked daily since the first half of 2016. We will see later if this was cause by the increase in the number of users.**"
   ]
  },
  {
   "cell_type": "markdown",
   "id": "cfa710e5",
   "metadata": {},
   "source": [
    "### Number of questions posted on monthly basic"
   ]
  },
  {
   "cell_type": "code",
   "execution_count": null,
   "id": "2f345028",
   "metadata": {},
   "outputs": [],
   "source": [
    "#Create a barplot for the number of questions asked by month\n",
    "plt.figure(figsize=(15, 6))\n",
    "plt.axhline(y = question_by_month['count'].quantile(q=.25), color = 'r', linestyle = '--')\n",
    "plt.axhline(y = question_by_month['count'].quantile(q=.50), color = 'r', linestyle = '-')\n",
    "plt.axhline(y = question_by_month['count'].quantile(q=.75), color = 'r', linestyle = '--')\n",
    "\n",
    "sns.barplot(y=question_by_month['count'], x=question_by_month['month'])\n",
    "plt.show()"
   ]
  },
  {
   "cell_type": "markdown",
   "id": "6a6c2ded",
   "metadata": {},
   "source": [
    "### Statistics of questions scores"
   ]
  },
  {
   "cell_type": "code",
   "execution_count": null,
   "id": "f268dcb8",
   "metadata": {
    "scrolled": true
   },
   "outputs": [],
   "source": [
    "print('Question scores stats:\\n', questions_question_scores['score'].describe())"
   ]
  },
  {
   "cell_type": "code",
   "execution_count": null,
   "id": "8dc421ad",
   "metadata": {},
   "outputs": [],
   "source": [
    "plt.figure(figsize=(6, 6))\n",
    "sns.boxplot(data=questions_question_scores, x='score')\n",
    "plt.title('Question scores')\n",
    "plt.grid(True)\n",
    "plt.show()"
   ]
  },
  {
   "cell_type": "markdown",
   "id": "bf6ec940",
   "metadata": {},
   "source": [
    "### Questions topics"
   ]
  },
  {
   "cell_type": "markdown",
   "id": "98c00907",
   "metadata": {},
   "source": [
    "**For questions topics, let first combine the tag_questions with questions.**"
   ]
  },
  {
   "cell_type": "code",
   "execution_count": null,
   "id": "a7bed823",
   "metadata": {},
   "outputs": [],
   "source": [
    "questions_with_tags = questions.merge(tag_questions,\n",
    "                                      left_on='questions_id',\n",
    "                                      right_on='tag_questions_question_id', \n",
    "                                      how='left')"
   ]
  },
  {
   "cell_type": "code",
   "execution_count": null,
   "id": "3529dc78",
   "metadata": {},
   "outputs": [],
   "source": [
    "#Create a function to clean the text feature\n",
    "stop=set(stopwords.words(\"english\"))\n",
    "\n",
    "def clean(text):\n",
    "    # Remove HTML tags\n",
    "    text = re.sub(r'<.*?>', '', text)\n",
    "\n",
    "    # Remove URLs\n",
    "    text = re.sub(r'[^\\s]+@.*?\\s+', '', text)\n",
    "\n",
    "    # Remove punctuations\n",
    "    text = re.sub(r'[^\\w\\s]', '', text)\n",
    "\n",
    "    # Remove digits\n",
    "    text = re.sub(r'\\d+', '', text)\n",
    "\n",
    "    # Remove underscores\n",
    "    text = re.sub(r'_', '', text)\n",
    "\n",
    "    # Remove single characters\n",
    "    text = re.sub(r'\\s+', ' ', text)\n",
    "\n",
    "    # Remove multiple spaces\n",
    "    text = text.strip()\n",
    "\n",
    "    stemmer = SnowballStemmer(\"english\")\n",
    "    text=[stemmer.stem(word) for word in text.split() if word not in stop]\n",
    "\n",
    "    return \" \".join(text)"
   ]
  },
  {
   "cell_type": "code",
   "execution_count": null,
   "id": "631440ef",
   "metadata": {},
   "outputs": [],
   "source": [
    "#Combine the questions_title and questions_body into a single column question_content\n",
    "questions_question_scores['question_content'] = \"\"\n",
    "questions_question_scores['question_content'] = questions_question_scores['questions_title'] + \" \" +\\\n",
    "                                                questions_question_scores['questions_body']"
   ]
  },
  {
   "cell_type": "code",
   "execution_count": null,
   "id": "8bb0cf72",
   "metadata": {},
   "outputs": [],
   "source": [
    "#Clean the text column\n",
    "questions_question_scores['question_content'] = questions_question_scores['question_content'].apply(clean)"
   ]
  },
  {
   "cell_type": "code",
   "execution_count": null,
   "id": "cc67e555",
   "metadata": {},
   "outputs": [],
   "source": [
    "#Create a wordcloud for questions\n",
    "from wordcloud import WordCloud\n",
    "\n",
    "text_data = questions_question_scores['question_content'].str.cat(sep=' ')\n",
    "\n",
    "# Create and generate a word cloud image\n",
    "wordcloud = WordCloud(width=800, height=400, background_color='white').generate(text_data)\n",
    "\n",
    "# Display the generated image\n",
    "plt.figure(figsize=(10, 5))\n",
    "plt.imshow(wordcloud, interpolation='bilinear')\n",
    "plt.axis('off')\n",
    "plt.show()"
   ]
  },
  {
   "cell_type": "code",
   "execution_count": null,
   "id": "4d7c028d",
   "metadata": {
    "scrolled": false
   },
   "outputs": [],
   "source": [
    "# Print the most frequent words\n",
    "frequent_words = wordcloud.words_\n",
    "print(\"Most frequent words:\")\n",
    "for word, frequency in frequent_words.items():\n",
    "    print(f\"{word}: {frequency}\")"
   ]
  },
  {
   "cell_type": "markdown",
   "id": "cbb7c65a",
   "metadata": {},
   "source": [
    "**We will explore the topics of the questions. For exploratory purpose, we will use sklearn LDA for simplicity and faster run time, comparing to gensim.**"
   ]
  },
  {
   "cell_type": "code",
   "execution_count": null,
   "id": "9226cf7e",
   "metadata": {},
   "outputs": [],
   "source": [
    "from sklearn.feature_extraction.text import CountVectorizer, TfidfVectorizer\n",
    "from sklearn.decomposition import LatentDirichletAllocation\n",
    "\n",
    "\n",
    "documents = questions_question_scores['question_content']\n",
    "\n",
    "# Convert text to a matrix of token counts\n",
    "vectorizer = CountVectorizer(stop_words='english')\n",
    "#vectorizer = TfidfVectorizer(stop_words='english')\n",
    "X = vectorizer.fit_transform(documents)\n",
    "\n",
    "# Fit an LDA model\n",
    "num_topics = 10  # You can adjust the number of topics based on your data\n",
    "lda = LatentDirichletAllocation(n_components=num_topics, random_state=42)\n",
    "lda.fit(X)\n",
    "\n",
    "# Display the top words for each topic\n",
    "feature_names = vectorizer.get_feature_names_out()\n",
    "topic_words = {}\n",
    "\n",
    "for topic_idx, topic in enumerate(lda.components_):\n",
    "    top_words_idx = topic.argsort()[:-10 - 1:-1]\n",
    "    top_words = [feature_names[i] for i in top_words_idx]\n",
    "    topic_words[f\"Topic {topic_idx + 1}\"] = top_words\n",
    "\n",
    "# Create a DataFrame to display the top words for each topic\n",
    "topic_df = pd.DataFrame(topic_words)\n",
    "print(topic_df)\n"
   ]
  },
  {
   "cell_type": "markdown",
   "id": "1024b803",
   "metadata": {},
   "source": [
    "## answers & answer_scores"
   ]
  },
  {
   "cell_type": "code",
   "execution_count": null,
   "id": "b895d0db",
   "metadata": {
    "scrolled": true
   },
   "outputs": [],
   "source": [
    "#Let look at a few rows of answers\n",
    "answers.head()"
   ]
  },
  {
   "cell_type": "code",
   "execution_count": null,
   "id": "ac332dd6",
   "metadata": {},
   "outputs": [],
   "source": [
    "#Convert 'answers_date_added' to Datetime object\n",
    "answers['answers_date_added'] = pd.to_datetime(answers['answers_date_added'])"
   ]
  },
  {
   "cell_type": "code",
   "execution_count": null,
   "id": "da7df982",
   "metadata": {},
   "outputs": [],
   "source": [
    "#Check for missing values\n",
    "answers.isnull().sum()"
   ]
  },
  {
   "cell_type": "code",
   "execution_count": null,
   "id": "8e4b8cd5",
   "metadata": {},
   "outputs": [],
   "source": [
    "#There is one answer that does not have content. Let look at that answer and we will address it later.\n",
    "answers[answers['answers_body'].isnull()]"
   ]
  },
  {
   "cell_type": "code",
   "execution_count": null,
   "id": "47b880bc",
   "metadata": {},
   "outputs": [],
   "source": [
    "#Let look at a few rows of the answer_scores\n",
    "answer_scores.head()"
   ]
  },
  {
   "cell_type": "code",
   "execution_count": null,
   "id": "0acfce6e",
   "metadata": {},
   "outputs": [],
   "source": [
    "#Let check for missing value\n",
    "answer_scores.isnull().sum()"
   ]
  },
  {
   "cell_type": "code",
   "execution_count": null,
   "id": "07602bba",
   "metadata": {},
   "outputs": [],
   "source": [
    "#Merge the answers and answer_scores by the answers_id\n",
    "answers_answer_scores = pd.merge(answers, answer_scores,\n",
    "                                     left_on='answers_id', \n",
    "                                     right_on='id', \n",
    "                                     how='left').drop('id', axis=1)"
   ]
  },
  {
   "cell_type": "markdown",
   "id": "e2d741c9",
   "metadata": {},
   "source": [
    "### Merging questions and answers"
   ]
  },
  {
   "cell_type": "code",
   "execution_count": null,
   "id": "08e10edd",
   "metadata": {},
   "outputs": [],
   "source": [
    "questions_answers = pd.merge(questions_question_scores, answers_answer_scores,\n",
    "                                     left_on='questions_id', \n",
    "                                     right_on='answers_question_id', \n",
    "                                     how='right').drop('answers_question_id', axis=1)"
   ]
  },
  {
   "cell_type": "code",
   "execution_count": null,
   "id": "709faa5c",
   "metadata": {},
   "outputs": [],
   "source": [
    "questions_answers.rename(columns={'score_x': 'questions_score', 'score_y': 'answers_score'}, inplace=True)"
   ]
  },
  {
   "cell_type": "markdown",
   "id": "c0e3810b",
   "metadata": {},
   "source": [
    "### How many answers a question get?"
   ]
  },
  {
   "cell_type": "code",
   "execution_count": null,
   "id": "07c57b53",
   "metadata": {},
   "outputs": [],
   "source": [
    "#Let count the number of answers a question receives\n",
    "questions_answers_1 = questions_answers.groupby('questions_id').agg({'answers_id':'count'}).rename({'answers_id':'num_answer'})"
   ]
  },
  {
   "cell_type": "code",
   "execution_count": null,
   "id": "6415c2a0",
   "metadata": {},
   "outputs": [],
   "source": [
    "#Statistics of the number of answers per question.\n",
    "questions_answers_1.describe()"
   ]
  },
  {
   "cell_type": "code",
   "execution_count": null,
   "id": "aafe9da8",
   "metadata": {},
   "outputs": [],
   "source": [
    "plt.figure(figsize=(20, 6))\n",
    "sns.boxplot(data=questions_answers_1, x='answers_id')\n",
    "plt.xlabel('N.o of answers')\n",
    "plt.title('N.o of answers for each questions')\n",
    "plt.grid(True)\n",
    "plt.show()"
   ]
  },
  {
   "cell_type": "markdown",
   "id": "64b5cc5d",
   "metadata": {},
   "source": [
    "**All questions get at least one answered, and most questions get around under 5 answers.**"
   ]
  },
  {
   "cell_type": "markdown",
   "id": "622f8059",
   "metadata": {},
   "source": [
    "### How long does it take for a question to get at least one answer after it was posted?"
   ]
  },
  {
   "cell_type": "code",
   "execution_count": null,
   "id": "a80ba0c4",
   "metadata": {},
   "outputs": [],
   "source": [
    "#Create a \"questions_get_answers\" column that count how many days between a question and an answer\n",
    "questions_answers['questions_get_answers'] = questions_answers['answers_date_added'] - questions_answers['questions_date_added']"
   ]
  },
  {
   "cell_type": "code",
   "execution_count": null,
   "id": "59e67cfe",
   "metadata": {},
   "outputs": [],
   "source": [
    "#Convert the timedelta object to integer.\n",
    "questions_answers['questions_get_answers'] = questions_answers['questions_get_answers'].dt.days"
   ]
  },
  {
   "cell_type": "code",
   "execution_count": null,
   "id": "392fe74e",
   "metadata": {},
   "outputs": [],
   "source": [
    "questions_answers_2 = questions_answers.groupby('questions_id').\\\n",
    "                                                                agg({'questions_date_added':'first', \n",
    "                                                                     'answers_date_added':'first',\n",
    "                                                                     'questions_get_answers':'min'})"
   ]
  },
  {
   "cell_type": "code",
   "execution_count": null,
   "id": "a7125324",
   "metadata": {},
   "outputs": [],
   "source": [
    "#Statistics of the number of days a question gets its first answer.\n",
    "questions_answers_2['questions_get_answers'].describe()"
   ]
  },
  {
   "cell_type": "markdown",
   "id": "45a2fea1",
   "metadata": {},
   "source": [
    "**There are some -1 values. It might be caused due to differences in time zone between where the question is asked and where the answer comes from when a question gets the answer in the same day. We will address this problem by making all -1 value as 0.**"
   ]
  },
  {
   "cell_type": "code",
   "execution_count": null,
   "id": "e7c71c48",
   "metadata": {},
   "outputs": [],
   "source": [
    "questions_answers_2.loc[questions_answers_2['questions_get_answers'] < 0, 'questions_get_answers'] = 0"
   ]
  },
  {
   "cell_type": "code",
   "execution_count": null,
   "id": "505e65e2",
   "metadata": {
    "scrolled": true
   },
   "outputs": [],
   "source": [
    "#Statistics of the number of days a question gets its first answers after transforming negative values.\n",
    "questions_answers_2.describe()"
   ]
  },
  {
   "cell_type": "markdown",
   "id": "c7c84cd8",
   "metadata": {},
   "source": [
    "**On average, a question is first answered within 65 days. About 25% number of questions are answered within 24 hours after posted. Half of the questions are answered within 2 days.**\n",
    "\n",
    "**We can make a boxplot to see the distribution of answer time.**"
   ]
  },
  {
   "cell_type": "code",
   "execution_count": null,
   "id": "70b3fa86",
   "metadata": {},
   "outputs": [],
   "source": [
    "#Histogram\n",
    "plt.figure(figsize=(20, 6))\n",
    "plt.hist(data=questions_answers, x='questions_get_answers', range=(0,450), bins=50)\n",
    "plt.grid(True)\n",
    "plt.show()"
   ]
  },
  {
   "cell_type": "markdown",
   "id": "9d8537b2",
   "metadata": {},
   "source": [
    "**Let see how the response time changes over the years.**"
   ]
  },
  {
   "cell_type": "code",
   "execution_count": null,
   "id": "e05eba7c",
   "metadata": {},
   "outputs": [],
   "source": [
    "x = questions_answers_2.groupby(questions_answers_2['questions_date_added'].dt.year).agg({'questions_get_answers':'mean'}).index\n",
    "y = questions_answers_2.groupby(questions_answers_2['questions_date_added'].dt.year).agg({'questions_get_answers':'mean'})['questions_get_answers'].values"
   ]
  },
  {
   "cell_type": "code",
   "execution_count": null,
   "id": "83acb14c",
   "metadata": {},
   "outputs": [],
   "source": [
    "plt.figure(figsize=(15,6))\n",
    "plt.plot(x,y)\n",
    "plt.xlabel('Year', fontsize=15)\n",
    "plt.ylabel('Mean First Response Time in Days', fontsize=15)\n",
    "plt.title('Evolution of Mean First Response Time per year')\n",
    "plt.show()"
   ]
  },
  {
   "cell_type": "markdown",
   "id": "ec402cfc",
   "metadata": {},
   "source": [
    "### How a question is addressed?"
   ]
  },
  {
   "cell_type": "code",
   "execution_count": null,
   "id": "5843a792",
   "metadata": {},
   "outputs": [],
   "source": [
    "print('N.o of answers that have 0 score: ', answer_scores[answer_scores['score'] == 0]['score'].shape[0])\n",
    "print('N.o of answer that have > 0 score: ', answer_scores[answer_scores['score'] > 0]['score'].count())"
   ]
  },
  {
   "cell_type": "code",
   "execution_count": null,
   "id": "bc41fb6b",
   "metadata": {},
   "outputs": [],
   "source": [
    "#Countplot of the scores of the rated answers\n",
    "plt.figure(figsize=(10,6))\n",
    "answer_scores[answer_scores['score'] > 0]['score'].value_counts().sort_index().plot.bar()\n",
    "plt.show()"
   ]
  },
  {
   "cell_type": "code",
   "execution_count": null,
   "id": "de922546",
   "metadata": {},
   "outputs": [],
   "source": [
    "print('score / count')\n",
    "answer_scores[answer_scores['score'] > 0]['score'].value_counts().sort_index()"
   ]
  },
  {
   "cell_type": "markdown",
   "id": "469f28a7",
   "metadata": {},
   "source": [
    "**Most of the answers are not rated, about 73% of the total number of answers. Most of the answers that are rated receive score 1 and 2.**"
   ]
  },
  {
   "cell_type": "code",
   "execution_count": null,
   "id": "2fb008ec",
   "metadata": {},
   "outputs": [],
   "source": [
    "print('Number of questions that have rated answers: ',\n",
    "      (questions_answers.groupby('questions_id').agg({'answers_score':'sum'})['answers_score'] > 0).sum())\n",
    "\n",
    "print('Number of questions that have no rated answers: ',\n",
    "      (questions_answers.groupby('questions_id').agg({'answers_score':'sum'})['answers_score'] == 0).sum())"
   ]
  },
  {
   "cell_type": "markdown",
   "id": "7d379d4d",
   "metadata": {},
   "source": [
    "**We can see that the number of questions that received rated answers are much fewer than those that received non-rated answers. This will be a problem we need to address when building the recommendation model since we do not full know whether an answer satisfies the question in many cases.**"
   ]
  },
  {
   "cell_type": "markdown",
   "id": "d8633de4",
   "metadata": {},
   "source": [
    "## professionals"
   ]
  },
  {
   "cell_type": "code",
   "execution_count": null,
   "id": "ce6845ea",
   "metadata": {},
   "outputs": [],
   "source": [
    "professionals.head()"
   ]
  },
  {
   "cell_type": "code",
   "execution_count": null,
   "id": "1d1fafc1",
   "metadata": {},
   "outputs": [],
   "source": [
    "professionals['professionals_date_joined'] = pd.to_datetime(professionals['professionals_date_joined'])"
   ]
  },
  {
   "cell_type": "markdown",
   "id": "fa25e7c3",
   "metadata": {},
   "source": [
    "### Professionals locations"
   ]
  },
  {
   "cell_type": "markdown",
   "id": "bd85dbac",
   "metadata": {},
   "source": [
    "**There are so many unique values of professionals_location, we create a wordcloud to get an insight about the most common locations of professionals.**"
   ]
  },
  {
   "cell_type": "code",
   "execution_count": null,
   "id": "2674139a",
   "metadata": {},
   "outputs": [],
   "source": [
    "location_data = professionals['professionals_location'].str.cat(sep=' ')\n",
    "\n",
    "# Create and generate a word cloud image\n",
    "wordcloud = WordCloud(width=800, height=400, background_color='white').generate(location_data)\n",
    "\n",
    "# Display the generated image\n",
    "plt.figure(figsize=(10, 5))\n",
    "plt.imshow(wordcloud, interpolation='bilinear')\n",
    "plt.axis('off')\n",
    "plt.show()"
   ]
  },
  {
   "cell_type": "markdown",
   "id": "03332614",
   "metadata": {},
   "source": [
    "**From the wordcloud, we can assume some of the most common locations:**\n",
    "* Newyork City, NY\n",
    "* Los Angeles, CA\n",
    "* San Francisco, CA\n",
    "* Austin, TX\n",
    "* Boston, MA\n",
    "* Chicago, IL\n",
    "* Atlanta, GA"
   ]
  },
  {
   "cell_type": "code",
   "execution_count": null,
   "id": "d9bc76ec",
   "metadata": {},
   "outputs": [],
   "source": [
    "#We make a countplot to confirm our findings.\n",
    "professionals_top_location = professionals['professionals_location'].value_counts().index[:9]\n",
    "\n",
    "# Replace values not in the top 9 with 'Others'\n",
    "professionals['professionals_location'] = np.where(professionals['professionals_location'].isin(professionals_top_location), professionals['professionals_location'], 'Others')\n",
    "\n",
    "# Create a countplot\n",
    "plt.figure(figsize=(10, 6))\n",
    "sns.countplot(data=professionals, x='professionals_location', order=professionals['professionals_location'].value_counts().index)\n",
    "plt.title('Most common locations of professionals')\n",
    "plt.xticks(rotation=45)\n",
    "plt.xlabel('Location')\n",
    "plt.ylabel('Count')\n",
    "plt.show()"
   ]
  },
  {
   "cell_type": "markdown",
   "id": "fa1d33a4",
   "metadata": {},
   "source": [
    "### Professionals Industries"
   ]
  },
  {
   "cell_type": "markdown",
   "id": "d10e23f5",
   "metadata": {},
   "source": [
    "**We will use the same procedures to explore the professionals industry.**"
   ]
  },
  {
   "cell_type": "code",
   "execution_count": null,
   "id": "9de4acfa",
   "metadata": {},
   "outputs": [],
   "source": [
    "industry_data = professionals['professionals_industry'].str.cat(sep=' ')\n",
    "\n",
    "# Create and generate a word cloud image\n",
    "wordcloud = WordCloud(width=800, height=400, background_color='white').generate(industry_data)\n",
    "\n",
    "# Display the generated image\n",
    "plt.figure(figsize=(10, 5))\n",
    "plt.imshow(wordcloud, interpolation='bilinear')\n",
    "plt.axis('off')\n",
    "plt.show()"
   ]
  },
  {
   "cell_type": "code",
   "execution_count": null,
   "id": "f14720c7",
   "metadata": {},
   "outputs": [],
   "source": [
    "#We make a countplot to confirm our findings.\n",
    "professionals_top_industry = professionals['professionals_industry'].value_counts().index[:9]\n",
    "\n",
    "# Replace values not in the top 9 with 'Others'\n",
    "professionals['professionals_industry'] = np.where(professionals['professionals_industry'].isin(professionals_top_industry), professionals['professionals_industry'], 'Others')\n",
    "\n",
    "# Create a countplot\n",
    "plt.figure(figsize=(10, 6))\n",
    "sns.countplot(data=professionals, x='professionals_industry', order=professionals['professionals_industry'].value_counts().index)\n",
    "plt.title('Most common industries of professionals')\n",
    "plt.xticks(rotation=90)\n",
    "plt.xlabel('Industry')\n",
    "plt.ylabel('Count')\n",
    "plt.show()"
   ]
  },
  {
   "cell_type": "markdown",
   "id": "430874f0",
   "metadata": {},
   "source": [
    "### Number of professionals joining in over time"
   ]
  },
  {
   "cell_type": "code",
   "execution_count": null,
   "id": "31cc6469",
   "metadata": {},
   "outputs": [],
   "source": [
    "#Create a dataframe professionals_2 sorted by the professionals_date_joined\n",
    "professionals_2 = professionals.sort_values('professionals_date_joined')\n",
    "\n",
    "#Create a cumsum column\n",
    "professionals_2['cumulative_professionals'] = 1\n",
    "\n",
    "# Plotting\n",
    "plt.figure(figsize=(10, 6))\n",
    "\n",
    "professionals_2.set_index('professionals_date_joined')['cumulative_professionals'].cumsum().plot(kind='line', figsize=(10, 6))\n",
    "\n",
    "plt.title('Cumulative Professionals Over Time')\n",
    "plt.xlabel('Joined Date')\n",
    "plt.ylabel('Cumulative Professionals')\n",
    "plt.grid(True)\n",
    "plt.show()"
   ]
  },
  {
   "cell_type": "markdown",
   "id": "cc421f67",
   "metadata": {},
   "source": [
    "**From the cumsum chart, we see that the number of professionals joined in the platform increases significantly around the start of 2016.**"
   ]
  },
  {
   "cell_type": "markdown",
   "id": "0a9f6c3c",
   "metadata": {},
   "source": [
    "### Number of answers per professional"
   ]
  },
  {
   "cell_type": "code",
   "execution_count": null,
   "id": "3fe5e86f",
   "metadata": {},
   "outputs": [],
   "source": [
    "print('Number of professionals that provide at least one answer: ', \n",
    "      answers.groupby('answers_author_id').agg({'answers_id':'count'}).\\\n",
    "      rename(columns={'answers_id':'count'}).shape[0])"
   ]
  },
  {
   "cell_type": "code",
   "execution_count": null,
   "id": "82907f00",
   "metadata": {},
   "outputs": [],
   "source": [
    "#Top 10 professionals by the number of answers\n",
    "answers.groupby('answers_author_id').agg({'answers_id':'count'}).\\\n",
    "                                    rename(columns={'answers_id':'count'}).\\\n",
    "                                    sort_values('count', ascending=False)[:10]"
   ]
  },
  {
   "cell_type": "code",
   "execution_count": null,
   "id": "a125177f",
   "metadata": {},
   "outputs": [],
   "source": [
    "sns.distplot(answers.groupby('answers_author_id').\\\n",
    "             agg({'answers_id':'count'}).\\\n",
    "             rename(columns={'answers_id':'count'})\\\n",
    "             [answers.groupby('answers_author_id').agg({'answers_id':'count'}).\\\n",
    "             rename(columns={'answers_id':'count'})['count']>0]['count'])\n",
    "plt.show()"
   ]
  },
  {
   "cell_type": "code",
   "execution_count": null,
   "id": "8488208c",
   "metadata": {},
   "outputs": [],
   "source": [
    "answers_sum = answers.groupby('answers_author_id', as_index=False).\\\n",
    "                        agg({'answers_id':'count'}).\\\n",
    "                        rename(columns={'answers_id':'n.o_of_answers'})"
   ]
  },
  {
   "cell_type": "code",
   "execution_count": null,
   "id": "d3e61f2e",
   "metadata": {},
   "outputs": [],
   "source": [
    "comments_sum = comments.groupby('comments_author_id', as_index=False).\\\n",
    "                        agg({'comments_id':'count'}).\\\n",
    "                        rename(columns={'comments_id':'n.o_of_comments'})"
   ]
  },
  {
   "cell_type": "code",
   "execution_count": null,
   "id": "1bb88437",
   "metadata": {},
   "outputs": [],
   "source": [
    "#Merge professionals with answers and comments\n",
    "professionals_answers_comments = pd.merge(pd.merge(professionals, answers_sum,\n",
    "                                                    left_on = 'professionals_id',\n",
    "                                                    right_on = 'answers_author_id',\n",
    "                                                    how = 'left').drop('answers_author_id', axis=1), comments_sum,\n",
    "                                          left_on = 'professionals_id',\n",
    "                                          right_on = 'comments_author_id',\n",
    "                                          how = 'left').drop('comments_author_id', axis=1)\n",
    "                                          "
   ]
  },
  {
   "cell_type": "code",
   "execution_count": null,
   "id": "9ee5fffe",
   "metadata": {},
   "outputs": [],
   "source": [
    "print('Total number of professionals: ', professionals.shape[0])\n",
    "print('Number of professionals that have never provided an answer or comment: ',\n",
    "      professionals_answers_comments[(professionals_answers_comments['n.o_of_answers'].isnull()) &\n",
    "                                     (professionals_answers_comments['n.o_of_comments'].isnull())].shape[0])"
   ]
  },
  {
   "cell_type": "markdown",
   "id": "d339d290",
   "metadata": {},
   "source": [
    "### emails"
   ]
  },
  {
   "cell_type": "code",
   "execution_count": null,
   "id": "9387c0ca",
   "metadata": {},
   "outputs": [],
   "source": [
    "emails.head()"
   ]
  },
  {
   "cell_type": "code",
   "execution_count": null,
   "id": "a9a70b02",
   "metadata": {},
   "outputs": [],
   "source": [
    "emails['emails_date_sent'] = pd.to_datetime(emails['emails_date_sent'])"
   ]
  },
  {
   "cell_type": "markdown",
   "id": "799a2632",
   "metadata": {},
   "source": [
    "**Top 10 professionals that receive the most email.**"
   ]
  },
  {
   "cell_type": "code",
   "execution_count": null,
   "id": "268fc030",
   "metadata": {},
   "outputs": [],
   "source": [
    "emails['emails_recipient_id'].value_counts()[:10]"
   ]
  },
  {
   "cell_type": "markdown",
   "id": "07e6b454",
   "metadata": {},
   "source": [
    "**Professionals that receive no email.**"
   ]
  },
  {
   "cell_type": "code",
   "execution_count": null,
   "id": "097f74ff",
   "metadata": {},
   "outputs": [],
   "source": [
    "professionals_emails = pd.merge(professionals, \n",
    "                                emails.groupby('emails_recipient_id', as_index=False).agg({'emails_id':'count'}).rename(columns={'emails_id':'emails_count'}),\n",
    "                                left_on = 'professionals_id',\n",
    "                                right_on = 'emails_recipient_id',\n",
    "                                how = 'left').drop('emails_recipient_id', axis=1)"
   ]
  },
  {
   "cell_type": "code",
   "execution_count": null,
   "id": "662dcf9e",
   "metadata": {},
   "outputs": [],
   "source": [
    "print('Number of professionals that receive no email: ',\n",
    "professionals_emails[professionals_emails['emails_count'].isnull()].shape[0])"
   ]
  },
  {
   "cell_type": "markdown",
   "id": "1a053f87",
   "metadata": {},
   "source": [
    "## students"
   ]
  },
  {
   "cell_type": "code",
   "execution_count": null,
   "id": "8084206c",
   "metadata": {},
   "outputs": [],
   "source": [
    "students.head()"
   ]
  },
  {
   "cell_type": "code",
   "execution_count": null,
   "id": "4301e7f1",
   "metadata": {},
   "outputs": [],
   "source": [
    "students['students_date_joined'] = pd.to_datetime(students['students_date_joined'])"
   ]
  },
  {
   "cell_type": "code",
   "execution_count": null,
   "id": "01569550",
   "metadata": {},
   "outputs": [],
   "source": [
    "students.info()"
   ]
  },
  {
   "cell_type": "markdown",
   "id": "088f8904",
   "metadata": {},
   "source": [
    "### Students locations"
   ]
  },
  {
   "cell_type": "code",
   "execution_count": null,
   "id": "30221888",
   "metadata": {},
   "outputs": [],
   "source": [
    "student_location_data = students['students_location'].str.cat(sep=' ')\n",
    "\n",
    "# Create and generate a word cloud image\n",
    "wordcloud = WordCloud(width=800, height=400, background_color='white').generate(student_location_data)\n",
    "\n",
    "# Display the generated image\n",
    "plt.figure(figsize=(10, 5))\n",
    "plt.imshow(wordcloud, interpolation='bilinear')\n",
    "plt.axis('off')\n",
    "plt.show()"
   ]
  },
  {
   "cell_type": "markdown",
   "id": "b302c410",
   "metadata": {},
   "source": [
    "**From the word cloud, we can make a guess that most students are from New York, California or from India.**\n",
    "** **\n",
    "\n",
    "**Let make a countplot to see which locations that most students located.**"
   ]
  },
  {
   "cell_type": "code",
   "execution_count": null,
   "id": "a655c341",
   "metadata": {},
   "outputs": [],
   "source": [
    "#We make a countplot to confirm our findings.\n",
    "students_top_location = students['students_location'].value_counts().index[:9]\n",
    "\n",
    "# Replace values not in the top 9 with 'Others'\n",
    "students['students_location'] = np.where(students['students_location'].isin(students_top_location), students['students_location'], 'Others')\n",
    "\n",
    "# Create a countplot\n",
    "plt.figure(figsize=(10, 6))\n",
    "sns.countplot(data=students, x='students_location', order=students['students_location'].value_counts().index)\n",
    "plt.title('Most common locations of students')\n",
    "plt.xticks(rotation=45)\n",
    "plt.xlabel('Location')\n",
    "plt.ylabel('Count')\n",
    "plt.show()"
   ]
  },
  {
   "cell_type": "markdown",
   "id": "15d599a5",
   "metadata": {},
   "source": [
    "### school_memberships"
   ]
  },
  {
   "cell_type": "code",
   "execution_count": null,
   "id": "6bb7a34e",
   "metadata": {},
   "outputs": [],
   "source": [
    "school_memberships.head()"
   ]
  },
  {
   "cell_type": "code",
   "execution_count": null,
   "id": "ed261323",
   "metadata": {},
   "outputs": [],
   "source": [
    "students_questions = pd.merge(students, \n",
    "                              questions.groupby('questions_author_id', as_index=False).agg({'questions_id':'count'}).rename(columns={'questions_id':'n.o_of_questions'}),\n",
    "                             left_on = 'students_id',\n",
    "                             right_on = 'questions_author_id',\n",
    "                             how = 'left').drop('questions_author_id', axis=1)\n"
   ]
  },
  {
   "cell_type": "code",
   "execution_count": null,
   "id": "ddb9b84a",
   "metadata": {},
   "outputs": [],
   "source": [
    "print('Number of students that have not asked a question: ',\n",
    "students_questions['n.o_of_questions'].isnull().sum())"
   ]
  },
  {
   "cell_type": "code",
   "execution_count": null,
   "id": "d4ea08ba",
   "metadata": {},
   "outputs": [],
   "source": [
    "students_school_memberships = pd.merge(students, \n",
    "                                       school_memberships,\n",
    "                                         left_on = 'students_id',\n",
    "                                         right_on = 'school_memberships_user_id',\n",
    "                                         how = 'left').drop('school_memberships_user_id', axis=1)\n"
   ]
  },
  {
   "cell_type": "code",
   "execution_count": null,
   "id": "ab42aa6e",
   "metadata": {},
   "outputs": [],
   "source": [
    "print('Number of student users: ', students.shape[0])\n",
    "print('Number of students that do not have school membership: ',\n",
    "students_school_memberships[students_school_memberships['school_memberships_school_id'].isnull()].shape[0])"
   ]
  },
  {
   "cell_type": "code",
   "execution_count": null,
   "id": "a473b12b",
   "metadata": {},
   "outputs": [],
   "source": []
  }
 ],
 "metadata": {
  "kernelspec": {
   "display_name": "Python 3 (ipykernel)",
   "language": "python",
   "name": "python3"
  },
  "language_info": {
   "codemirror_mode": {
    "name": "ipython",
    "version": 3
   },
   "file_extension": ".py",
   "mimetype": "text/x-python",
   "name": "python",
   "nbconvert_exporter": "python",
   "pygments_lexer": "ipython3",
   "version": "3.9.2"
  },
  "toc": {
   "base_numbering": 1,
   "nav_menu": {},
   "number_sections": true,
   "sideBar": true,
   "skip_h1_title": false,
   "title_cell": "Table of Contents",
   "title_sidebar": "Contents",
   "toc_cell": false,
   "toc_position": {
    "height": "calc(100% - 180px)",
    "left": "10px",
    "top": "150px",
    "width": "272.6px"
   },
   "toc_section_display": true,
   "toc_window_display": true
  }
 },
 "nbformat": 4,
 "nbformat_minor": 5
}
