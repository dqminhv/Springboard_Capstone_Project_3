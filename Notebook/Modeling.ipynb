{
 "cells": [
  {
   "cell_type": "code",
   "execution_count": 1,
   "id": "83317677",
   "metadata": {},
   "outputs": [],
   "source": [
    "import pandas as pd\n",
    "import numpy as np\n",
    "import matplotlib.pyplot as plt\n",
    "import seaborn as sns\n",
    "import nltk\n",
    "#nltk.download('stopwords')\n",
    "#nltk.download('punkt')\n",
    "from nltk.corpus import stopwords\n",
    "from nltk.tokenize import word_tokenize\n",
    "import re\n",
    "from datetime import timedelta"
   ]
  },
  {
   "cell_type": "code",
   "execution_count": 2,
   "id": "f7166da7",
   "metadata": {},
   "outputs": [],
   "source": [
    "root_path = '/home/dqminhv/Springboard/Springboard_Capstone_Project_3/Notebook/'\n",
    "train_data = pd.read_csv(root_path + 'train_data.csv')\n",
    "test_data = pd.read_csv(root_path + 'test_data.csv')"
   ]
  },
  {
   "cell_type": "code",
   "execution_count": 3,
   "id": "6d27bf34",
   "metadata": {},
   "outputs": [
    {
     "name": "stdout",
     "output_type": "stream",
     "text": [
      "<class 'pandas.core.frame.DataFrame'>\n",
      "RangeIndex: 4665 entries, 0 to 4664\n",
      "Data columns (total 4 columns):\n",
      " #   Column                    Non-Null Count  Dtype \n",
      "---  ------                    --------------  ----- \n",
      " 0   professional_id           4665 non-null   object\n",
      " 1   professional_date_joined  4665 non-null   object\n",
      " 2   tag_name                  4665 non-null   object\n",
      " 3   question_content          4665 non-null   object\n",
      "dtypes: object(4)\n",
      "memory usage: 145.9+ KB\n"
     ]
    }
   ],
   "source": [
    "train_data.info()"
   ]
  },
  {
   "cell_type": "code",
   "execution_count": 4,
   "id": "df33d4de",
   "metadata": {},
   "outputs": [
    {
     "name": "stdout",
     "output_type": "stream",
     "text": [
      "<class 'pandas.core.frame.DataFrame'>\n",
      "RangeIndex: 6157 entries, 0 to 6156\n",
      "Data columns (total 4 columns):\n",
      " #   Column                    Non-Null Count  Dtype \n",
      "---  ------                    --------------  ----- \n",
      " 0   professional_id           6157 non-null   object\n",
      " 1   professional_date_joined  6157 non-null   object\n",
      " 2   tag_name                  6157 non-null   object\n",
      " 3   question_content          6157 non-null   object\n",
      "dtypes: object(4)\n",
      "memory usage: 192.5+ KB\n"
     ]
    }
   ],
   "source": [
    "test_data.info()"
   ]
  },
  {
   "cell_type": "markdown",
   "id": "6c0c4c79",
   "metadata": {},
   "source": [
    "# Modeling"
   ]
  },
  {
   "cell_type": "markdown",
   "id": "c4bd6b2f",
   "metadata": {},
   "source": [
    "Recommendation score for a question:\n",
    "1. question's tag similarity score\n",
    "2. question's content similarity score (comparing a similarity of a question with questions that a professional has answered before)\n",
    "3. professional's activity score\n",
    "4. professional's upvote score"
   ]
  },
  {
   "cell_type": "markdown",
   "id": "75c0d99a",
   "metadata": {},
   "source": [
    "## Tag-base Similarity Score"
   ]
  },
  {
   "cell_type": "code",
   "execution_count": 5,
   "id": "7f11c89b",
   "metadata": {},
   "outputs": [],
   "source": [
    "from sklearn.metrics.pairwise import cosine_similarity\n",
    "from sklearn.feature_extraction.text import TfidfVectorizer"
   ]
  },
  {
   "cell_type": "code",
   "execution_count": 6,
   "id": "2563c21b",
   "metadata": {},
   "outputs": [
    {
     "ename": "ValueError",
     "evalue": "Iterable over raw text documents expected, string object received.",
     "output_type": "error",
     "traceback": [
      "\u001b[0;31m---------------------------------------------------------------------------\u001b[0m",
      "\u001b[0;31mValueError\u001b[0m                                Traceback (most recent call last)",
      "Cell \u001b[0;32mIn[6], line 4\u001b[0m\n\u001b[1;32m      2\u001b[0m vectorizer \u001b[38;5;241m=\u001b[39m TfidfVectorizer()\n\u001b[1;32m      3\u001b[0m professional_vector \u001b[38;5;241m=\u001b[39m vectorizer\u001b[38;5;241m.\u001b[39mfit_transform(train_data[\u001b[38;5;124m\"\u001b[39m\u001b[38;5;124mtag_name\u001b[39m\u001b[38;5;124m\"\u001b[39m])\n\u001b[0;32m----> 4\u001b[0m question_vector \u001b[38;5;241m=\u001b[39m \u001b[43mvectorizer\u001b[49m\u001b[38;5;241;43m.\u001b[39;49m\u001b[43mtransform\u001b[49m\u001b[43m(\u001b[49m\u001b[43mtest_data\u001b[49m\u001b[38;5;241;43m.\u001b[39;49m\u001b[43miloc\u001b[49m\u001b[43m[\u001b[49m\u001b[38;5;241;43m0\u001b[39;49m\u001b[43m]\u001b[49m\u001b[43m[\u001b[49m\u001b[38;5;124;43m\"\u001b[39;49m\u001b[38;5;124;43mtag_name\u001b[39;49m\u001b[38;5;124;43m\"\u001b[39;49m\u001b[43m]\u001b[49m\u001b[43m)\u001b[49m\n",
      "File \u001b[0;32m~/.local/lib/python3.9/site-packages/sklearn/feature_extraction/text.py:2163\u001b[0m, in \u001b[0;36mTfidfVectorizer.transform\u001b[0;34m(self, raw_documents)\u001b[0m\n\u001b[1;32m   2146\u001b[0m \u001b[38;5;250m\u001b[39m\u001b[38;5;124;03m\"\"\"Transform documents to document-term matrix.\u001b[39;00m\n\u001b[1;32m   2147\u001b[0m \n\u001b[1;32m   2148\u001b[0m \u001b[38;5;124;03mUses the vocabulary and document frequencies (df) learned by fit (or\u001b[39;00m\n\u001b[0;32m   (...)\u001b[0m\n\u001b[1;32m   2159\u001b[0m \u001b[38;5;124;03m    Tf-idf-weighted document-term matrix.\u001b[39;00m\n\u001b[1;32m   2160\u001b[0m \u001b[38;5;124;03m\"\"\"\u001b[39;00m\n\u001b[1;32m   2161\u001b[0m check_is_fitted(\u001b[38;5;28mself\u001b[39m, msg\u001b[38;5;241m=\u001b[39m\u001b[38;5;124m\"\u001b[39m\u001b[38;5;124mThe TF-IDF vectorizer is not fitted\u001b[39m\u001b[38;5;124m\"\u001b[39m)\n\u001b[0;32m-> 2163\u001b[0m X \u001b[38;5;241m=\u001b[39m \u001b[38;5;28;43msuper\u001b[39;49m\u001b[43m(\u001b[49m\u001b[43m)\u001b[49m\u001b[38;5;241;43m.\u001b[39;49m\u001b[43mtransform\u001b[49m\u001b[43m(\u001b[49m\u001b[43mraw_documents\u001b[49m\u001b[43m)\u001b[49m\n\u001b[1;32m   2164\u001b[0m \u001b[38;5;28;01mreturn\u001b[39;00m \u001b[38;5;28mself\u001b[39m\u001b[38;5;241m.\u001b[39m_tfidf\u001b[38;5;241m.\u001b[39mtransform(X, copy\u001b[38;5;241m=\u001b[39m\u001b[38;5;28;01mFalse\u001b[39;00m)\n",
      "File \u001b[0;32m~/.local/lib/python3.9/site-packages/sklearn/feature_extraction/text.py:1428\u001b[0m, in \u001b[0;36mCountVectorizer.transform\u001b[0;34m(self, raw_documents)\u001b[0m\n\u001b[1;32m   1412\u001b[0m \u001b[38;5;250m\u001b[39m\u001b[38;5;124;03m\"\"\"Transform documents to document-term matrix.\u001b[39;00m\n\u001b[1;32m   1413\u001b[0m \n\u001b[1;32m   1414\u001b[0m \u001b[38;5;124;03mExtract token counts out of raw text documents using the vocabulary\u001b[39;00m\n\u001b[0;32m   (...)\u001b[0m\n\u001b[1;32m   1425\u001b[0m \u001b[38;5;124;03m    Document-term matrix.\u001b[39;00m\n\u001b[1;32m   1426\u001b[0m \u001b[38;5;124;03m\"\"\"\u001b[39;00m\n\u001b[1;32m   1427\u001b[0m \u001b[38;5;28;01mif\u001b[39;00m \u001b[38;5;28misinstance\u001b[39m(raw_documents, \u001b[38;5;28mstr\u001b[39m):\n\u001b[0;32m-> 1428\u001b[0m     \u001b[38;5;28;01mraise\u001b[39;00m \u001b[38;5;167;01mValueError\u001b[39;00m(\n\u001b[1;32m   1429\u001b[0m         \u001b[38;5;124m\"\u001b[39m\u001b[38;5;124mIterable over raw text documents expected, string object received.\u001b[39m\u001b[38;5;124m\"\u001b[39m\n\u001b[1;32m   1430\u001b[0m     )\n\u001b[1;32m   1431\u001b[0m \u001b[38;5;28mself\u001b[39m\u001b[38;5;241m.\u001b[39m_check_vocabulary()\n\u001b[1;32m   1433\u001b[0m \u001b[38;5;66;03m# use the same matrix-building strategy as fit_transform\u001b[39;00m\n",
      "\u001b[0;31mValueError\u001b[0m: Iterable over raw text documents expected, string object received."
     ]
    }
   ],
   "source": [
    "# Create TF-IDF vectors for each DataFrame\n",
    "vectorizer = TfidfVectorizer()\n",
    "professional_vector = vectorizer.fit_transform(train_data[\"tag_name\"])\n",
    "question_vector = vectorizer.transform(test_data.iloc[0][\"tag_name\"])"
   ]
  },
  {
   "cell_type": "code",
   "execution_count": null,
   "id": "641bd439",
   "metadata": {},
   "outputs": [],
   "source": [
    "# Calculate cosine similarity matrix\n",
    "tag_base_similarity_matrix = cosine_similarity(professional_vector, question_vector)\n",
    "\n",
    "# Create a DataFrame from the similarity matrix\n",
    "tag_base_similarity_df = pd.DataFrame(\n",
    "    tag_base_similarity_matrix, \n",
    "    index=data4model_professional_tag[\"professional_id\"], \n",
    "    columns=data4model_question_tag[\"question_id\"].iloc[:1]\n",
    ")"
   ]
  },
  {
   "cell_type": "markdown",
   "id": "e14445bf",
   "metadata": {},
   "source": [
    "## Content-base Similarity Score"
   ]
  },
  {
   "cell_type": "code",
   "execution_count": null,
   "id": "21bb46e0",
   "metadata": {},
   "outputs": [],
   "source": [
    "# Create TF-IDF vectors for each DataFrame\n",
    "vectorizer = TfidfVectorizer()\n",
    "professional_content_vector = vectorizer.fit_transform(data4model_answer_content[\"question_content\"])\n",
    "question_content_vector = vectorizer.transform(data4model_question.iloc[:1][\"question_content\"])"
   ]
  },
  {
   "cell_type": "code",
   "execution_count": null,
   "id": "23966045",
   "metadata": {},
   "outputs": [],
   "source": [
    "# Calculate cosine similarity matrix\n",
    "content_base_similarity_matrix = cosine_similarity(professional_content_vector, question_content_vector)\n",
    "\n",
    "# Create a DataFrame from the similarity matrix\n",
    "content_base_similarity_df = pd.DataFrame(\n",
    "    content_base_similarity_matrix, \n",
    "    index=data4model_answer_content[\"professional_id\"], \n",
    "    columns=data4model_question[\"questions_id\"].iloc[:1]\n",
    ")"
   ]
  },
  {
   "cell_type": "code",
   "execution_count": null,
   "id": "dc100909",
   "metadata": {},
   "outputs": [],
   "source": [
    "content_base_similarity_df[:5]"
   ]
  },
  {
   "cell_type": "markdown",
   "id": "4f95cd9d",
   "metadata": {},
   "source": [
    "# Model Validation"
   ]
  },
  {
   "cell_type": "code",
   "execution_count": null,
   "id": "9c0c24a5",
   "metadata": {},
   "outputs": [],
   "source": []
  }
 ],
 "metadata": {
  "kernelspec": {
   "display_name": "Python 3 (ipykernel)",
   "language": "python",
   "name": "python3"
  },
  "language_info": {
   "codemirror_mode": {
    "name": "ipython",
    "version": 3
   },
   "file_extension": ".py",
   "mimetype": "text/x-python",
   "name": "python",
   "nbconvert_exporter": "python",
   "pygments_lexer": "ipython3",
   "version": "3.9.2"
  },
  "toc": {
   "base_numbering": 1,
   "nav_menu": {},
   "number_sections": true,
   "sideBar": true,
   "skip_h1_title": false,
   "title_cell": "Table of Contents",
   "title_sidebar": "Contents",
   "toc_cell": false,
   "toc_position": {
    "height": "calc(100% - 180px)",
    "left": "10px",
    "top": "150px",
    "width": "194.333px"
   },
   "toc_section_display": true,
   "toc_window_display": true
  }
 },
 "nbformat": 4,
 "nbformat_minor": 5
}
