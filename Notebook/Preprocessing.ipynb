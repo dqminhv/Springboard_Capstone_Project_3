{
 "cells": [
  {
   "cell_type": "code",
   "execution_count": 1,
   "id": "69915e0f",
   "metadata": {},
   "outputs": [],
   "source": [
    "import pandas as pd\n",
    "import numpy as np\n",
    "import matplotlib.pyplot as plt\n",
    "import seaborn as sns\n",
    "import nltk\n",
    "#nltk.download('stopwords')\n",
    "#nltk.download('punkt')\n",
    "from nltk.corpus import stopwords\n",
    "from nltk.tokenize import word_tokenize\n",
    "import re\n",
    "from datetime import timedelta"
   ]
  },
  {
   "cell_type": "code",
   "execution_count": 2,
   "id": "6d2e2a83",
   "metadata": {},
   "outputs": [],
   "source": [
    "#The latest date in the dataset is 2019-02-26. We will use this date as our current day.\n",
    "today = pd.to_datetime('2019-02-26 00:00:00')"
   ]
  },
  {
   "cell_type": "code",
   "execution_count": 3,
   "id": "4b1e0d80",
   "metadata": {},
   "outputs": [],
   "source": [
    "#Import the datasets\n",
    "root_path = '/home/dqminhv/Springboard/Springboard_Capstone_Project_3/data/'\n",
    "answers = pd.read_csv(root_path + 'answers.csv')\n",
    "answer_scores = pd.read_csv(root_path + 'answer_scores.csv')\n",
    "comments = pd.read_csv(root_path + 'comments.csv')\n",
    "emails = pd.read_csv(root_path + 'emails.csv')\n",
    "groups = pd.read_csv(root_path + 'groups.csv')\n",
    "group_memberships = pd.read_csv(root_path + 'group_memberships.csv')\n",
    "matches = pd.read_csv(root_path + 'matches.csv')\n",
    "professionals = pd.read_csv(root_path + 'professionals.csv')\n",
    "questions = pd.read_csv(root_path + 'questions.csv')\n",
    "question_scores = pd.read_csv(root_path + 'question_scores.csv')\n",
    "school_memberships = pd.read_csv(root_path + 'school_memberships.csv')\n",
    "students = pd.read_csv(root_path + 'students.csv')\n",
    "tags = pd.read_csv(root_path + 'tags.csv')\n",
    "tag_questions = pd.read_csv(root_path + 'tag_questions.csv')\n",
    "tag_users = pd.read_csv(root_path + 'tag_users.csv')"
   ]
  },
  {
   "cell_type": "code",
   "execution_count": 4,
   "id": "66f325b7",
   "metadata": {},
   "outputs": [],
   "source": [
    "#Create a function to clean the text feature\n",
    "stop=set(stopwords.words(\"english\"))\n",
    "\n",
    "def clean_text(text):\n",
    "    \"\"\"\n",
    "    Cleans text for TF-IDF analysis.\n",
    "    Args:\n",
    "    text: A string containing the text to be cleaned.\n",
    "    Returns:\n",
    "    A cleaned string suitable for TF-IDF analysis.\n",
    "    \"\"\"\n",
    "    # Remove HTML tags\n",
    "    text = re.sub(r'<.*?>', '', text)\n",
    "    # Remove URLs\n",
    "    text = re.sub(r'[^\\s]+@.*?\\s+', '', text)\n",
    "    # Remove punctuations\n",
    "    text = re.sub(r'[^\\w\\s]', '', text)\n",
    "    # Remove digits\n",
    "    text = re.sub(r'\\d+', '', text)\n",
    "    # Remove underscores\n",
    "    text = re.sub(r'_', '', text)\n",
    "    # Remove single characters\n",
    "    text = re.sub(r'\\s+', ' ', text)\n",
    "    # Remove multiple spaces\n",
    "    text = text.strip()\n",
    "    \n",
    "    # Remove stop words\n",
    "    text = \" \".join([word for word in text.split() if word not in stop])\n",
    "    \n",
    "    # Lemmatizing\n",
    "    from nltk.stem import WordNetLemmatizer\n",
    "    lemmatizer = WordNetLemmatizer()\n",
    "    text = \" \".join([lemmatizer.lemmatize(word) for word in text.split()])\n",
    "    \n",
    "    return text.lower()"
   ]
  },
  {
   "cell_type": "code",
   "execution_count": 5,
   "id": "69f9ddda",
   "metadata": {
    "scrolled": true
   },
   "outputs": [],
   "source": [
    "#Convert some date time columns to datetime objects.\n",
    "questions['questions_date_added'] = pd.to_datetime(questions['questions_date_added'])\n",
    "professionals['professionals_date_joined'] = pd.to_datetime(professionals['professionals_date_joined'])\n",
    "emails['emails_date_sent'] = pd.to_datetime(emails['emails_date_sent'])\n",
    "answers['answers_date_added'] = pd.to_datetime(answers['answers_date_added'])"
   ]
  },
  {
   "cell_type": "code",
   "execution_count": 6,
   "id": "f2f148ae",
   "metadata": {},
   "outputs": [
    {
     "data": {
      "text/plain": [
       "count                                  23931\n",
       "mean     2017-01-07 08:05:27.113660160+00:00\n",
       "min                2011-09-27 15:23:17+00:00\n",
       "25%         2016-05-16 19:59:27.500000+00:00\n",
       "50%                2016-10-31 22:37:57+00:00\n",
       "75%         2018-01-24 22:38:08.500000+00:00\n",
       "max                2019-01-31 22:32:00+00:00\n",
       "Name: questions_date_added, dtype: object"
      ]
     },
     "execution_count": 6,
     "metadata": {},
     "output_type": "execute_result"
    }
   ],
   "source": [
    "questions['questions_date_added'].describe()"
   ]
  },
  {
   "cell_type": "code",
   "execution_count": 7,
   "id": "f9fd5233",
   "metadata": {},
   "outputs": [
    {
     "data": {
      "text/plain": [
       "count                                  51123\n",
       "mean     2017-03-11 20:38:32.033937920+00:00\n",
       "min                2011-10-05 20:33:04+00:00\n",
       "25%         2016-06-11 21:03:31.500000+00:00\n",
       "50%                2017-05-10 16:51:04+00:00\n",
       "75%         2018-04-04 12:07:17.500000+00:00\n",
       "max                2019-01-31 23:47:27+00:00\n",
       "Name: answers_date_added, dtype: object"
      ]
     },
     "execution_count": 7,
     "metadata": {},
     "output_type": "execute_result"
    }
   ],
   "source": [
    "answers['answers_date_added'].describe()"
   ]
  },
  {
   "cell_type": "code",
   "execution_count": 8,
   "id": "bb44145b",
   "metadata": {},
   "outputs": [
    {
     "data": {
      "text/plain": [
       "count                                  28152\n",
       "mean     2017-06-18 23:49:24.520460288+00:00\n",
       "min                2011-10-05 20:35:19+00:00\n",
       "25%      2016-06-08 10:23:41.249999872+00:00\n",
       "50%         2017-11-02 13:37:35.500000+00:00\n",
       "75%         2018-08-01 21:45:05.500000+00:00\n",
       "max                2019-01-31 23:59:09+00:00\n",
       "Name: professionals_date_joined, dtype: object"
      ]
     },
     "execution_count": 8,
     "metadata": {},
     "output_type": "execute_result"
    }
   ],
   "source": [
    "professionals['professionals_date_joined'].describe()"
   ]
  },
  {
   "cell_type": "markdown",
   "id": "8e139573",
   "metadata": {},
   "source": [
    "# Recommnedation strategy"
   ]
  },
  {
   "cell_type": "markdown",
   "id": "0519fb00",
   "metadata": {},
   "source": [
    "\n",
    "* Create a profile for each question by its content and its tags.\n",
    "* Split the questions and professionals datasets into train/test set.\n",
    "* Use questions/professionals before 2017-05-10 as train sets, and after 2017-05-10 as test sets.\n",
    "* Create a profile for each professional by their tags and the questions' content their answered before.\n",
    "* Using cosine similarity, we calculate the similarity score of each question in the test set to the list of professionals.\n",
    "* We assign each professionals with 10 highest similarity score questions.\n",
    "* We estimate the recommemdation power of the model by comparing the response rate in the test set and the response rate by the recommendation model."
   ]
  },
  {
   "cell_type": "markdown",
   "id": "e133d0bc",
   "metadata": {},
   "source": [
    "# Preparing data for modeling"
   ]
  },
  {
   "cell_type": "code",
   "execution_count": 9,
   "id": "ab5ae31c",
   "metadata": {},
   "outputs": [],
   "source": [
    "question_w_answer = pd.merge(questions, answers,\n",
    "                                 left_on='questions_id', \n",
    "                                 right_on='answers_question_id', \n",
    "                                 how='right').drop('answers_question_id', axis=1)"
   ]
  },
  {
   "cell_type": "code",
   "execution_count": 10,
   "id": "b6fa3480",
   "metadata": {},
   "outputs": [],
   "source": [
    "question_w_answer_set = set(question_w_answer['questions_id'].values)"
   ]
  },
  {
   "cell_type": "code",
   "execution_count": 11,
   "id": "e3a24d86",
   "metadata": {},
   "outputs": [],
   "source": [
    "#Combine tags names to the questions dataframe\n",
    "question_tag = pd.merge(tag_questions, tags,\n",
    "                        left_on='tag_questions_tag_id', \n",
    "                        right_on='tags_tag_id', \n",
    "                        how='left').drop('tags_tag_id', axis=1)\n",
    "\n",
    "#Rename the columns of the new dataframe\n",
    "question_tag.rename(columns={'tag_questions_tag_id':'tag_id',\n",
    "                             'tag_questions_question_id':'question_id',\n",
    "                             'tags_tag_name':'tag_name'}, inplace=True)"
   ]
  },
  {
   "cell_type": "code",
   "execution_count": 12,
   "id": "3fb17a9f",
   "metadata": {},
   "outputs": [],
   "source": [
    "#Create a dataframe with each question id acssociate with a list of its tags names\n",
    "question_tag_list = question_tag.groupby(\"question_id\")[\"tag_name\"].agg(lambda x: \",\".join(x)).reset_index()"
   ]
  },
  {
   "cell_type": "markdown",
   "id": "120a86fa",
   "metadata": {},
   "source": [
    "## Training data"
   ]
  },
  {
   "cell_type": "code",
   "execution_count": 13,
   "id": "61fae133",
   "metadata": {},
   "outputs": [],
   "source": [
    "#Use the day at 50th percentile of answers_date_added column in answers data_frame\n",
    "cutoff_day = pd.to_datetime('2017-05-10 16:51:04+00:00')"
   ]
  },
  {
   "cell_type": "markdown",
   "id": "637fd84a",
   "metadata": {},
   "source": [
    "### Questions with answer(s)"
   ]
  },
  {
   "cell_type": "code",
   "execution_count": 14,
   "id": "fd5e7f38",
   "metadata": {},
   "outputs": [],
   "source": [
    "train_answer = answers[answers['answers_date_added'] < cutoff_day].copy(deep=True)"
   ]
  },
  {
   "cell_type": "code",
   "execution_count": 15,
   "id": "0a9364c2",
   "metadata": {},
   "outputs": [],
   "source": [
    "train_answer.rename(columns={'answers_id':'answer_id',\n",
    "                            'answers_author_id':'professional_id',\n",
    "                            'answers_question_id':'question_id',\n",
    "                            'answers_date_added':'answer_date_added',\n",
    "                            'answers_body':'answer_body'},inplace=True)"
   ]
  },
  {
   "cell_type": "code",
   "execution_count": 16,
   "id": "bbff7b8b",
   "metadata": {},
   "outputs": [],
   "source": [
    "train_question = questions[questions['questions_id'].\\\n",
    "                           isin(set(train_answer['question_id'].values))].\\\n",
    "                            reset_index(drop=True)"
   ]
  },
  {
   "cell_type": "code",
   "execution_count": 17,
   "id": "80ea932b",
   "metadata": {},
   "outputs": [],
   "source": [
    "train_question.rename(columns={'questions_id':'question_id',\n",
    "                              'questions_author_id':'user_id',\n",
    "                              'questions_date_added':'question_date_added',\n",
    "                              'questions_title':'question_title',\n",
    "                              'questions_body':'question_body'}, inplace=True)"
   ]
  },
  {
   "cell_type": "code",
   "execution_count": 18,
   "id": "7e1070ed",
   "metadata": {},
   "outputs": [],
   "source": [
    "train_answer_score = pd.merge(train_answer, answer_scores,\n",
    "                              left_on='answer_id', \n",
    "                              right_on='id', \n",
    "                              how='left').drop('id', axis=1)\n",
    "\n",
    "train_question_answer = pd.merge(train_question, train_answer_score,\n",
    "                                 left_on='question_id', \n",
    "                                 right_on='question_id', \n",
    "                                 how='right')"
   ]
  },
  {
   "cell_type": "code",
   "execution_count": 19,
   "id": "533c1969",
   "metadata": {},
   "outputs": [],
   "source": [
    "#Create a set of questions that have at least one answers\n",
    "train_question_w_answer_set = set(train_question_answer['question_id'].values)"
   ]
  },
  {
   "cell_type": "code",
   "execution_count": 20,
   "id": "52fcb435",
   "metadata": {},
   "outputs": [],
   "source": [
    "#Create a set of professionals that answered at least one question\n",
    "train_professional_w_answer_set = set(train_answer['professional_id'].values)"
   ]
  },
  {
   "cell_type": "markdown",
   "id": "6cf2c1c4",
   "metadata": {},
   "source": [
    "### Questions profiles in the training set"
   ]
  },
  {
   "cell_type": "markdown",
   "id": "e4571293",
   "metadata": {},
   "source": [
    "#### Questions content"
   ]
  },
  {
   "cell_type": "code",
   "execution_count": 21,
   "id": "577f5633",
   "metadata": {},
   "outputs": [],
   "source": [
    "#Create a train question dataframe with only questions with answers\n",
    "train_question = train_question[train_question[\"question_id\"].isin(train_question_w_answer_set)]"
   ]
  },
  {
   "cell_type": "code",
   "execution_count": 22,
   "id": "df7fa843",
   "metadata": {},
   "outputs": [],
   "source": [
    "#Combine questions_title and questions_body as questions_content\n",
    "train_question['question_content'] = \"\"\n",
    "train_question['question_content'] = train_question['question_title'] + \" \" + train_question['question_body']\n",
    "train_question.drop(['question_title', 'question_body'], axis=1, inplace=True)"
   ]
  },
  {
   "cell_type": "code",
   "execution_count": 23,
   "id": "cb0780ea",
   "metadata": {},
   "outputs": [],
   "source": [
    "train_question.reset_index(drop=True, inplace=True)"
   ]
  },
  {
   "cell_type": "code",
   "execution_count": 24,
   "id": "9c68377e",
   "metadata": {},
   "outputs": [],
   "source": [
    "#Clean the questions_content and tags for tf-idf\n",
    "train_question['question_content'] = train_question['question_content'].apply(clean_text)"
   ]
  },
  {
   "cell_type": "markdown",
   "id": "e076d8cf",
   "metadata": {},
   "source": [
    "#### Adding tags names to the questions in training set"
   ]
  },
  {
   "cell_type": "code",
   "execution_count": 25,
   "id": "f1d9ce75",
   "metadata": {},
   "outputs": [],
   "source": [
    "#Combine the tags names list of each question to the training question data\n",
    "train_question = pd.merge(train_question, question_tag_list,\n",
    "                         left_on='question_id',\n",
    "                         right_on='question_id',\n",
    "                         how='left')"
   ]
  },
  {
   "cell_type": "code",
   "execution_count": 26,
   "id": "498ec920",
   "metadata": {},
   "outputs": [],
   "source": [
    "train_question['tag_name'].fillna('', inplace=True)"
   ]
  },
  {
   "cell_type": "markdown",
   "id": "96892ba5",
   "metadata": {},
   "source": [
    "### Professionals profiles in the training set"
   ]
  },
  {
   "cell_type": "markdown",
   "id": "64a146b6",
   "metadata": {},
   "source": [
    "#### Adding tags names to the professional training set"
   ]
  },
  {
   "cell_type": "code",
   "execution_count": 27,
   "id": "26a84f88",
   "metadata": {},
   "outputs": [],
   "source": [
    "#Create a professional training dataframe\n",
    "#This includes professionals joined in before the cutoff day, and answered at least 1 question.\n",
    "train_professional = professionals.copy(deep=True)\n",
    "train_professional = train_professional[train_professional[\"professionals_id\"].isin(train_professional_w_answer_set)]"
   ]
  },
  {
   "cell_type": "code",
   "execution_count": 28,
   "id": "580b847f",
   "metadata": {},
   "outputs": [],
   "source": [
    "train_professional.rename(columns={'professionals_id':'professional_id',\n",
    "                                   'professionals_date_joined':'professional_date_joined'},\n",
    "                          inplace=True)"
   ]
  },
  {
   "cell_type": "code",
   "execution_count": 29,
   "id": "760396f8",
   "metadata": {},
   "outputs": [],
   "source": [
    "train_professional.drop(['professionals_location', 'professionals_industry', 'professionals_headline'], axis=1, inplace=True)"
   ]
  },
  {
   "cell_type": "code",
   "execution_count": 30,
   "id": "e9c19cb5",
   "metadata": {},
   "outputs": [],
   "source": [
    "#Combine tags names to the tag_users\n",
    "user_tag = pd.merge(tag_users, tags,\n",
    "                    left_on='tag_users_tag_id', \n",
    "                    right_on='tags_tag_id', \n",
    "                    how='left').drop('tags_tag_id', axis=1)"
   ]
  },
  {
   "cell_type": "code",
   "execution_count": 31,
   "id": "160f8485",
   "metadata": {},
   "outputs": [],
   "source": [
    "user_tag.rename(columns={'tag_users_tag_id':'tag_id',\n",
    "                        'tag_users_user_id':'user_id',\n",
    "                        'tags_tag_name':'tag_name'},\n",
    "               inplace=True)"
   ]
  },
  {
   "cell_type": "code",
   "execution_count": 32,
   "id": "86988ce5",
   "metadata": {},
   "outputs": [],
   "source": [
    "user_tag_list = user_tag.groupby(\"user_id\")[\"tag_name\"].agg(lambda x: \",\".join(x)).reset_index()"
   ]
  },
  {
   "cell_type": "code",
   "execution_count": 33,
   "id": "16a0e828",
   "metadata": {},
   "outputs": [],
   "source": [
    "train_professional = train_professional.merge(user_tag_list,\n",
    "                                              left_on='professional_id',\n",
    "                                              right_on='user_id',\n",
    "                                              how='left').drop('user_id', axis=1)"
   ]
  },
  {
   "cell_type": "code",
   "execution_count": 34,
   "id": "385c1c5a",
   "metadata": {},
   "outputs": [],
   "source": [
    "train_professional['tag_name'].fillna('no_tag', inplace=True)"
   ]
  },
  {
   "cell_type": "markdown",
   "id": "2d38e633",
   "metadata": {},
   "source": [
    "#### Professionals profiles with previous questions content"
   ]
  },
  {
   "cell_type": "code",
   "execution_count": 35,
   "id": "54a35488",
   "metadata": {},
   "outputs": [],
   "source": [
    "#Merge the \n",
    "train_question_w_answer = pd.merge(train_answer, train_question,\n",
    "                                        left_on='question_id',\n",
    "                                        right_on='question_id',\n",
    "                                        how='left')"
   ]
  },
  {
   "cell_type": "code",
   "execution_count": 36,
   "id": "c9be6c09",
   "metadata": {
    "scrolled": false
   },
   "outputs": [],
   "source": [
    "train_professional_question = train_question_w_answer.\\\n",
    "                                            groupby(\"professional_id\")[\"question_content\"].\\\n",
    "                                            agg(lambda x: \",\".join(x)).reset_index()"
   ]
  },
  {
   "cell_type": "code",
   "execution_count": 37,
   "id": "bdb82f36",
   "metadata": {},
   "outputs": [],
   "source": [
    "train_professional_profile = pd.merge(train_professional, train_professional_question,\n",
    "                                          left_on='professional_id',\n",
    "                                          right_on='professional_id',\n",
    "                                          how='left')"
   ]
  },
  {
   "cell_type": "code",
   "execution_count": 38,
   "id": "b59196a8",
   "metadata": {},
   "outputs": [],
   "source": [
    "train_professional_profile.fillna('', inplace=True)"
   ]
  },
  {
   "cell_type": "code",
   "execution_count": 39,
   "id": "0e19f5bc",
   "metadata": {},
   "outputs": [],
   "source": [
    "train_professional_profile.to_csv('train_data.csv', index=False, sep=',', header=True)"
   ]
  },
  {
   "cell_type": "markdown",
   "id": "485a795d",
   "metadata": {},
   "source": [
    "## Testing data"
   ]
  },
  {
   "cell_type": "markdown",
   "id": "7dc0aa24",
   "metadata": {},
   "source": [
    "### Questions with answer(s) in the testing set"
   ]
  },
  {
   "cell_type": "code",
   "execution_count": 40,
   "id": "396997f5",
   "metadata": {},
   "outputs": [],
   "source": [
    "test_answer = answers[answers['answers_date_added'] >= cutoff_day].copy(deep=True)"
   ]
  },
  {
   "cell_type": "code",
   "execution_count": 41,
   "id": "7e53c970",
   "metadata": {},
   "outputs": [],
   "source": [
    "test_question = questions[questions['questions_id'].isin(set(test_answer['answers_question_id'].values))].reset_index(drop=True)"
   ]
  },
  {
   "cell_type": "code",
   "execution_count": 42,
   "id": "c0022b87",
   "metadata": {},
   "outputs": [],
   "source": [
    "test_answer_score = pd.merge(test_answer, answer_scores,\n",
    "                              left_on='answers_id', \n",
    "                              right_on='id', \n",
    "                              how='left').drop('id', axis=1)\n",
    "\n",
    "test_question_answer = pd.merge(test_question, test_answer_score,\n",
    "                                 left_on='questions_id', \n",
    "                                 right_on='answers_question_id', \n",
    "                                 how='right').drop('answers_question_id', axis=1)"
   ]
  },
  {
   "cell_type": "code",
   "execution_count": 43,
   "id": "6877ae0e",
   "metadata": {},
   "outputs": [],
   "source": [
    "#Create a set of questions that have at least one answers\n",
    "test_question_w_answer_set = set(test_question_answer['questions_id'].values)"
   ]
  },
  {
   "cell_type": "code",
   "execution_count": 44,
   "id": "8f12899b",
   "metadata": {},
   "outputs": [],
   "source": [
    "#Create a set of professionals that answered at least one question\n",
    "test_professional_w_answer_set = set(test_answer['answers_author_id'].values)"
   ]
  },
  {
   "cell_type": "code",
   "execution_count": 45,
   "id": "9bb38269",
   "metadata": {},
   "outputs": [],
   "source": [
    "test_answer.rename(columns={'answers_id':'answer_id',\n",
    "                            'answers_author_id':'professional_id',\n",
    "                            'answers_question_id':'question_id',\n",
    "                            'answers_date_added':'answer_date_added',\n",
    "                            'answers_body':'answer_body'\n",
    "                           },inplace=True)"
   ]
  },
  {
   "cell_type": "markdown",
   "id": "aad12960",
   "metadata": {},
   "source": [
    "### Questions profiles in the test set"
   ]
  },
  {
   "cell_type": "markdown",
   "id": "c4104b50",
   "metadata": {},
   "source": [
    "#### Questions content"
   ]
  },
  {
   "cell_type": "code",
   "execution_count": 46,
   "id": "cb6b2daa",
   "metadata": {},
   "outputs": [],
   "source": [
    "#Combine questions_title and questions_body as questions_content\n",
    "test_question['question_content'] = \"\"\n",
    "test_question['question_content'] = test_question['questions_title'] + \" \" + test_question['questions_body']\n",
    "test_question.drop(['questions_title', 'questions_body'], axis=1, inplace=True)"
   ]
  },
  {
   "cell_type": "code",
   "execution_count": 47,
   "id": "462622e3",
   "metadata": {},
   "outputs": [],
   "source": [
    "#Clean the questions_content and tags for tf-idf\n",
    "test_question['question_content'] = test_question['question_content'].apply(clean_text)"
   ]
  },
  {
   "cell_type": "code",
   "execution_count": 48,
   "id": "c8f0752a",
   "metadata": {},
   "outputs": [],
   "source": [
    "#Rename columns with appropriate names\n",
    "test_question.rename(columns={'questions_id':'question_id',\n",
    "                              'questions_date_added':'question_date_added',\n",
    "                              'questions_author_id':'question_author_id'},\n",
    "                      inplace=True)"
   ]
  },
  {
   "cell_type": "markdown",
   "id": "68bda7ff",
   "metadata": {},
   "source": [
    "#### Adding tags names to the questions in test set"
   ]
  },
  {
   "cell_type": "code",
   "execution_count": 49,
   "id": "e137a2cb",
   "metadata": {},
   "outputs": [],
   "source": [
    "#Combine the tags names list of each question to the training question data\n",
    "test_question = pd.merge(test_question, question_tag_list,\n",
    "                         left_on='question_id',\n",
    "                         right_on='question_id',\n",
    "                         how='left')"
   ]
  },
  {
   "cell_type": "code",
   "execution_count": 50,
   "id": "72ee2212",
   "metadata": {},
   "outputs": [],
   "source": [
    "test_question['tag_name'].fillna('', inplace=True)"
   ]
  },
  {
   "cell_type": "code",
   "execution_count": 51,
   "id": "3d42f45b",
   "metadata": {},
   "outputs": [],
   "source": [
    "test_question.rename(columns={'question_author_id':'user_id'},inplace=True)"
   ]
  },
  {
   "cell_type": "markdown",
   "id": "b58fbb90",
   "metadata": {},
   "source": [
    "### Professionals profiles in the test set"
   ]
  },
  {
   "cell_type": "markdown",
   "id": "af2edcd0",
   "metadata": {},
   "source": [
    "#### Adding tags names to the professional test set"
   ]
  },
  {
   "cell_type": "code",
   "execution_count": 52,
   "id": "a703db53",
   "metadata": {},
   "outputs": [],
   "source": [
    "#Create a professional test dataframe\n",
    "test_professional = professionals.copy(deep=True)\n",
    "test_professional = test_professional[test_professional[\"professionals_id\"].\\\n",
    "                                      isin(test_professional_w_answer_set)]"
   ]
  },
  {
   "cell_type": "code",
   "execution_count": 53,
   "id": "7c22bad6",
   "metadata": {},
   "outputs": [],
   "source": [
    "test_professional.rename(columns={'professionals_id':'professional_id',\n",
    "                                   'professionals_date_joined':'professional_date_joined'},\n",
    "                          inplace=True)"
   ]
  },
  {
   "cell_type": "code",
   "execution_count": 54,
   "id": "155fa2d2",
   "metadata": {},
   "outputs": [],
   "source": [
    "test_professional.drop(['professionals_location', 'professionals_industry', 'professionals_headline'], axis=1, inplace=True)"
   ]
  },
  {
   "cell_type": "code",
   "execution_count": 55,
   "id": "11871fc9",
   "metadata": {},
   "outputs": [],
   "source": [
    "test_professional = test_professional.merge(user_tag_list,\n",
    "                                            left_on='professional_id',\n",
    "                                            right_on='user_id',\n",
    "                                            how='left').drop('user_id', axis=1)"
   ]
  },
  {
   "cell_type": "code",
   "execution_count": 56,
   "id": "e35bd5ae",
   "metadata": {},
   "outputs": [],
   "source": [
    "test_professional['tag_name'].fillna('no_tag', inplace=True)"
   ]
  },
  {
   "cell_type": "markdown",
   "id": "4cde1a0b",
   "metadata": {},
   "source": [
    "#### Professionals profiles with previous questions content"
   ]
  },
  {
   "cell_type": "code",
   "execution_count": 57,
   "id": "7dcfa8cb",
   "metadata": {},
   "outputs": [],
   "source": [
    "#Merge the \n",
    "test_question_w_answer = pd.merge(test_answer, test_question,\n",
    "                                        left_on='question_id',\n",
    "                                        right_on='question_id',\n",
    "                                        how='left')"
   ]
  },
  {
   "cell_type": "code",
   "execution_count": 58,
   "id": "52d84cd6",
   "metadata": {
    "scrolled": false
   },
   "outputs": [],
   "source": [
    "test_professional_question = test_question_w_answer.\\\n",
    "                                            groupby(\"professional_id\")[\"question_content\"].\\\n",
    "                                            agg(lambda x: \",\".join(x)).\\\n",
    "                                            reset_index()"
   ]
  },
  {
   "cell_type": "code",
   "execution_count": 59,
   "id": "e0ffe6ea",
   "metadata": {},
   "outputs": [],
   "source": [
    "test_professional_profile = pd.merge(test_professional, test_professional_question,\n",
    "                                          left_on='professional_id',\n",
    "                                          right_on='professional_id',\n",
    "                                          how='left')"
   ]
  },
  {
   "cell_type": "code",
   "execution_count": 60,
   "id": "9b723cb1",
   "metadata": {},
   "outputs": [],
   "source": [
    "test_professional_profile.fillna('', inplace=True)"
   ]
  },
  {
   "cell_type": "code",
   "execution_count": 61,
   "id": "5acbdd94",
   "metadata": {},
   "outputs": [],
   "source": [
    "test_professional_profile.to_csv('test_data.csv', index=False, sep=',', header=True)"
   ]
  }
 ],
 "metadata": {
  "kernelspec": {
   "display_name": "Python 3 (ipykernel)",
   "language": "python",
   "name": "python3"
  },
  "language_info": {
   "codemirror_mode": {
    "name": "ipython",
    "version": 3
   },
   "file_extension": ".py",
   "mimetype": "text/x-python",
   "name": "python",
   "nbconvert_exporter": "python",
   "pygments_lexer": "ipython3",
   "version": "3.9.2"
  },
  "toc": {
   "base_numbering": 1,
   "nav_menu": {},
   "number_sections": true,
   "sideBar": true,
   "skip_h1_title": false,
   "title_cell": "Table of Contents",
   "title_sidebar": "Contents",
   "toc_cell": false,
   "toc_position": {
    "height": "calc(100% - 180px)",
    "left": "10px",
    "top": "150px",
    "width": "189.656px"
   },
   "toc_section_display": true,
   "toc_window_display": true
  }
 },
 "nbformat": 4,
 "nbformat_minor": 5
}
